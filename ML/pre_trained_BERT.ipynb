{
  "nbformat": 4,
  "nbformat_minor": 0,
  "metadata": {
    "colab": {
      "provenance": [],
      "gpuType": "T4",
      "authorship_tag": "ABX9TyMyEU1n6hTNFuMHoP/fSXlp",
      "include_colab_link": true
    },
    "kernelspec": {
      "name": "python3",
      "display_name": "Python 3"
    },
    "language_info": {
      "name": "python"
    },
    "accelerator": "GPU",
    "widgets": {
      "application/vnd.jupyter.widget-state+json": {
        "e2409a7e74e74f6e81cfdd92b55244b6": {
          "model_module": "@jupyter-widgets/controls",
          "model_name": "HBoxModel",
          "model_module_version": "1.5.0",
          "state": {
            "_dom_classes": [],
            "_model_module": "@jupyter-widgets/controls",
            "_model_module_version": "1.5.0",
            "_model_name": "HBoxModel",
            "_view_count": null,
            "_view_module": "@jupyter-widgets/controls",
            "_view_module_version": "1.5.0",
            "_view_name": "HBoxView",
            "box_style": "",
            "children": [
              "IPY_MODEL_63e66e0c275749c99dae201ab902b872",
              "IPY_MODEL_750665d0b3074a4797201b224b59d0d6",
              "IPY_MODEL_56f8f124ade7441d80a9809bebe9a34e"
            ],
            "layout": "IPY_MODEL_8d882532b171444d8fb57d62f253b65c"
          }
        },
        "63e66e0c275749c99dae201ab902b872": {
          "model_module": "@jupyter-widgets/controls",
          "model_name": "HTMLModel",
          "model_module_version": "1.5.0",
          "state": {
            "_dom_classes": [],
            "_model_module": "@jupyter-widgets/controls",
            "_model_module_version": "1.5.0",
            "_model_name": "HTMLModel",
            "_view_count": null,
            "_view_module": "@jupyter-widgets/controls",
            "_view_module_version": "1.5.0",
            "_view_name": "HTMLView",
            "description": "",
            "description_tooltip": null,
            "layout": "IPY_MODEL_12c9167b45a049d3ac11863954edcddf",
            "placeholder": "​",
            "style": "IPY_MODEL_923a10867dea40c7a889134ebc89d1b2",
            "value": "model.safetensors: 100%"
          }
        },
        "750665d0b3074a4797201b224b59d0d6": {
          "model_module": "@jupyter-widgets/controls",
          "model_name": "FloatProgressModel",
          "model_module_version": "1.5.0",
          "state": {
            "_dom_classes": [],
            "_model_module": "@jupyter-widgets/controls",
            "_model_module_version": "1.5.0",
            "_model_name": "FloatProgressModel",
            "_view_count": null,
            "_view_module": "@jupyter-widgets/controls",
            "_view_module_version": "1.5.0",
            "_view_name": "ProgressView",
            "bar_style": "success",
            "description": "",
            "description_tooltip": null,
            "layout": "IPY_MODEL_0afd0c615d864dbbb575458e1c19610b",
            "max": 440449768,
            "min": 0,
            "orientation": "horizontal",
            "style": "IPY_MODEL_fd3330746a754dfd8ae7faaaeb35e0b7",
            "value": 440449768
          }
        },
        "56f8f124ade7441d80a9809bebe9a34e": {
          "model_module": "@jupyter-widgets/controls",
          "model_name": "HTMLModel",
          "model_module_version": "1.5.0",
          "state": {
            "_dom_classes": [],
            "_model_module": "@jupyter-widgets/controls",
            "_model_module_version": "1.5.0",
            "_model_name": "HTMLModel",
            "_view_count": null,
            "_view_module": "@jupyter-widgets/controls",
            "_view_module_version": "1.5.0",
            "_view_name": "HTMLView",
            "description": "",
            "description_tooltip": null,
            "layout": "IPY_MODEL_7c959da4bb194b078f3ceec637c6fa09",
            "placeholder": "​",
            "style": "IPY_MODEL_d9f787caf2c34a82a3f41ddb220acd47",
            "value": " 440M/440M [00:01&lt;00:00, 246MB/s]"
          }
        },
        "8d882532b171444d8fb57d62f253b65c": {
          "model_module": "@jupyter-widgets/base",
          "model_name": "LayoutModel",
          "model_module_version": "1.2.0",
          "state": {
            "_model_module": "@jupyter-widgets/base",
            "_model_module_version": "1.2.0",
            "_model_name": "LayoutModel",
            "_view_count": null,
            "_view_module": "@jupyter-widgets/base",
            "_view_module_version": "1.2.0",
            "_view_name": "LayoutView",
            "align_content": null,
            "align_items": null,
            "align_self": null,
            "border": null,
            "bottom": null,
            "display": null,
            "flex": null,
            "flex_flow": null,
            "grid_area": null,
            "grid_auto_columns": null,
            "grid_auto_flow": null,
            "grid_auto_rows": null,
            "grid_column": null,
            "grid_gap": null,
            "grid_row": null,
            "grid_template_areas": null,
            "grid_template_columns": null,
            "grid_template_rows": null,
            "height": null,
            "justify_content": null,
            "justify_items": null,
            "left": null,
            "margin": null,
            "max_height": null,
            "max_width": null,
            "min_height": null,
            "min_width": null,
            "object_fit": null,
            "object_position": null,
            "order": null,
            "overflow": null,
            "overflow_x": null,
            "overflow_y": null,
            "padding": null,
            "right": null,
            "top": null,
            "visibility": null,
            "width": null
          }
        },
        "12c9167b45a049d3ac11863954edcddf": {
          "model_module": "@jupyter-widgets/base",
          "model_name": "LayoutModel",
          "model_module_version": "1.2.0",
          "state": {
            "_model_module": "@jupyter-widgets/base",
            "_model_module_version": "1.2.0",
            "_model_name": "LayoutModel",
            "_view_count": null,
            "_view_module": "@jupyter-widgets/base",
            "_view_module_version": "1.2.0",
            "_view_name": "LayoutView",
            "align_content": null,
            "align_items": null,
            "align_self": null,
            "border": null,
            "bottom": null,
            "display": null,
            "flex": null,
            "flex_flow": null,
            "grid_area": null,
            "grid_auto_columns": null,
            "grid_auto_flow": null,
            "grid_auto_rows": null,
            "grid_column": null,
            "grid_gap": null,
            "grid_row": null,
            "grid_template_areas": null,
            "grid_template_columns": null,
            "grid_template_rows": null,
            "height": null,
            "justify_content": null,
            "justify_items": null,
            "left": null,
            "margin": null,
            "max_height": null,
            "max_width": null,
            "min_height": null,
            "min_width": null,
            "object_fit": null,
            "object_position": null,
            "order": null,
            "overflow": null,
            "overflow_x": null,
            "overflow_y": null,
            "padding": null,
            "right": null,
            "top": null,
            "visibility": null,
            "width": null
          }
        },
        "923a10867dea40c7a889134ebc89d1b2": {
          "model_module": "@jupyter-widgets/controls",
          "model_name": "DescriptionStyleModel",
          "model_module_version": "1.5.0",
          "state": {
            "_model_module": "@jupyter-widgets/controls",
            "_model_module_version": "1.5.0",
            "_model_name": "DescriptionStyleModel",
            "_view_count": null,
            "_view_module": "@jupyter-widgets/base",
            "_view_module_version": "1.2.0",
            "_view_name": "StyleView",
            "description_width": ""
          }
        },
        "0afd0c615d864dbbb575458e1c19610b": {
          "model_module": "@jupyter-widgets/base",
          "model_name": "LayoutModel",
          "model_module_version": "1.2.0",
          "state": {
            "_model_module": "@jupyter-widgets/base",
            "_model_module_version": "1.2.0",
            "_model_name": "LayoutModel",
            "_view_count": null,
            "_view_module": "@jupyter-widgets/base",
            "_view_module_version": "1.2.0",
            "_view_name": "LayoutView",
            "align_content": null,
            "align_items": null,
            "align_self": null,
            "border": null,
            "bottom": null,
            "display": null,
            "flex": null,
            "flex_flow": null,
            "grid_area": null,
            "grid_auto_columns": null,
            "grid_auto_flow": null,
            "grid_auto_rows": null,
            "grid_column": null,
            "grid_gap": null,
            "grid_row": null,
            "grid_template_areas": null,
            "grid_template_columns": null,
            "grid_template_rows": null,
            "height": null,
            "justify_content": null,
            "justify_items": null,
            "left": null,
            "margin": null,
            "max_height": null,
            "max_width": null,
            "min_height": null,
            "min_width": null,
            "object_fit": null,
            "object_position": null,
            "order": null,
            "overflow": null,
            "overflow_x": null,
            "overflow_y": null,
            "padding": null,
            "right": null,
            "top": null,
            "visibility": null,
            "width": null
          }
        },
        "fd3330746a754dfd8ae7faaaeb35e0b7": {
          "model_module": "@jupyter-widgets/controls",
          "model_name": "ProgressStyleModel",
          "model_module_version": "1.5.0",
          "state": {
            "_model_module": "@jupyter-widgets/controls",
            "_model_module_version": "1.5.0",
            "_model_name": "ProgressStyleModel",
            "_view_count": null,
            "_view_module": "@jupyter-widgets/base",
            "_view_module_version": "1.2.0",
            "_view_name": "StyleView",
            "bar_color": null,
            "description_width": ""
          }
        },
        "7c959da4bb194b078f3ceec637c6fa09": {
          "model_module": "@jupyter-widgets/base",
          "model_name": "LayoutModel",
          "model_module_version": "1.2.0",
          "state": {
            "_model_module": "@jupyter-widgets/base",
            "_model_module_version": "1.2.0",
            "_model_name": "LayoutModel",
            "_view_count": null,
            "_view_module": "@jupyter-widgets/base",
            "_view_module_version": "1.2.0",
            "_view_name": "LayoutView",
            "align_content": null,
            "align_items": null,
            "align_self": null,
            "border": null,
            "bottom": null,
            "display": null,
            "flex": null,
            "flex_flow": null,
            "grid_area": null,
            "grid_auto_columns": null,
            "grid_auto_flow": null,
            "grid_auto_rows": null,
            "grid_column": null,
            "grid_gap": null,
            "grid_row": null,
            "grid_template_areas": null,
            "grid_template_columns": null,
            "grid_template_rows": null,
            "height": null,
            "justify_content": null,
            "justify_items": null,
            "left": null,
            "margin": null,
            "max_height": null,
            "max_width": null,
            "min_height": null,
            "min_width": null,
            "object_fit": null,
            "object_position": null,
            "order": null,
            "overflow": null,
            "overflow_x": null,
            "overflow_y": null,
            "padding": null,
            "right": null,
            "top": null,
            "visibility": null,
            "width": null
          }
        },
        "d9f787caf2c34a82a3f41ddb220acd47": {
          "model_module": "@jupyter-widgets/controls",
          "model_name": "DescriptionStyleModel",
          "model_module_version": "1.5.0",
          "state": {
            "_model_module": "@jupyter-widgets/controls",
            "_model_module_version": "1.5.0",
            "_model_name": "DescriptionStyleModel",
            "_view_count": null,
            "_view_module": "@jupyter-widgets/base",
            "_view_module_version": "1.2.0",
            "_view_name": "StyleView",
            "description_width": ""
          }
        }
      }
    }
  },
  "cells": [
    {
      "cell_type": "markdown",
      "metadata": {
        "id": "view-in-github",
        "colab_type": "text"
      },
      "source": [
        "<a href=\"https://colab.research.google.com/github/JairEsc/Aprendizaje/blob/main/ML/pre_trained_BERT.ipynb\" target=\"_parent\"><img src=\"https://colab.research.google.com/assets/colab-badge.svg\" alt=\"Open In Colab\"/></a>"
      ]
    },
    {
      "cell_type": "code",
      "execution_count": 1,
      "metadata": {
        "colab": {
          "base_uri": "https://localhost:8080/"
        },
        "id": "qAU4i8bdduD3",
        "outputId": "e9eff58b-d5f2-452a-f4d4-3ceb458bea3f"
      },
      "outputs": [
        {
          "output_type": "stream",
          "name": "stdout",
          "text": [
            "Collecting pytorch_pretrained_bert\n",
            "  Downloading pytorch_pretrained_bert-0.6.2-py3-none-any.whl.metadata (86 kB)\n",
            "\u001b[?25l     \u001b[90m━━━━━━━━━━━━━━━━━━━━━━━━━━━━━━━━━━━━━━━━\u001b[0m \u001b[32m0.0/86.7 kB\u001b[0m \u001b[31m?\u001b[0m eta \u001b[36m-:--:--\u001b[0m\r\u001b[2K     \u001b[90m━━━━━━━━━━━━━━━━━━━━━━━━━━━━━━━━━━━━━━━━\u001b[0m \u001b[32m86.7/86.7 kB\u001b[0m \u001b[31m5.1 MB/s\u001b[0m eta \u001b[36m0:00:00\u001b[0m\n",
            "\u001b[?25hRequirement already satisfied: torch>=0.4.1 in /usr/local/lib/python3.10/dist-packages (from pytorch_pretrained_bert) (2.5.1+cu121)\n",
            "Requirement already satisfied: numpy in /usr/local/lib/python3.10/dist-packages (from pytorch_pretrained_bert) (1.26.4)\n",
            "Collecting boto3 (from pytorch_pretrained_bert)\n",
            "  Downloading boto3-1.35.79-py3-none-any.whl.metadata (6.7 kB)\n",
            "Requirement already satisfied: requests in /usr/local/lib/python3.10/dist-packages (from pytorch_pretrained_bert) (2.32.3)\n",
            "Requirement already satisfied: tqdm in /usr/local/lib/python3.10/dist-packages (from pytorch_pretrained_bert) (4.66.6)\n",
            "Requirement already satisfied: regex in /usr/local/lib/python3.10/dist-packages (from pytorch_pretrained_bert) (2024.9.11)\n",
            "Requirement already satisfied: filelock in /usr/local/lib/python3.10/dist-packages (from torch>=0.4.1->pytorch_pretrained_bert) (3.16.1)\n",
            "Requirement already satisfied: typing-extensions>=4.8.0 in /usr/local/lib/python3.10/dist-packages (from torch>=0.4.1->pytorch_pretrained_bert) (4.12.2)\n",
            "Requirement already satisfied: networkx in /usr/local/lib/python3.10/dist-packages (from torch>=0.4.1->pytorch_pretrained_bert) (3.4.2)\n",
            "Requirement already satisfied: jinja2 in /usr/local/lib/python3.10/dist-packages (from torch>=0.4.1->pytorch_pretrained_bert) (3.1.4)\n",
            "Requirement already satisfied: fsspec in /usr/local/lib/python3.10/dist-packages (from torch>=0.4.1->pytorch_pretrained_bert) (2024.10.0)\n",
            "Requirement already satisfied: sympy==1.13.1 in /usr/local/lib/python3.10/dist-packages (from torch>=0.4.1->pytorch_pretrained_bert) (1.13.1)\n",
            "Requirement already satisfied: mpmath<1.4,>=1.1.0 in /usr/local/lib/python3.10/dist-packages (from sympy==1.13.1->torch>=0.4.1->pytorch_pretrained_bert) (1.3.0)\n",
            "Collecting botocore<1.36.0,>=1.35.79 (from boto3->pytorch_pretrained_bert)\n",
            "  Downloading botocore-1.35.79-py3-none-any.whl.metadata (5.7 kB)\n",
            "Collecting jmespath<2.0.0,>=0.7.1 (from boto3->pytorch_pretrained_bert)\n",
            "  Downloading jmespath-1.0.1-py3-none-any.whl.metadata (7.6 kB)\n",
            "Collecting s3transfer<0.11.0,>=0.10.0 (from boto3->pytorch_pretrained_bert)\n",
            "  Downloading s3transfer-0.10.4-py3-none-any.whl.metadata (1.7 kB)\n",
            "Requirement already satisfied: charset-normalizer<4,>=2 in /usr/local/lib/python3.10/dist-packages (from requests->pytorch_pretrained_bert) (3.4.0)\n",
            "Requirement already satisfied: idna<4,>=2.5 in /usr/local/lib/python3.10/dist-packages (from requests->pytorch_pretrained_bert) (3.10)\n",
            "Requirement already satisfied: urllib3<3,>=1.21.1 in /usr/local/lib/python3.10/dist-packages (from requests->pytorch_pretrained_bert) (2.2.3)\n",
            "Requirement already satisfied: certifi>=2017.4.17 in /usr/local/lib/python3.10/dist-packages (from requests->pytorch_pretrained_bert) (2024.8.30)\n",
            "Requirement already satisfied: python-dateutil<3.0.0,>=2.1 in /usr/local/lib/python3.10/dist-packages (from botocore<1.36.0,>=1.35.79->boto3->pytorch_pretrained_bert) (2.8.2)\n",
            "Requirement already satisfied: MarkupSafe>=2.0 in /usr/local/lib/python3.10/dist-packages (from jinja2->torch>=0.4.1->pytorch_pretrained_bert) (3.0.2)\n",
            "Requirement already satisfied: six>=1.5 in /usr/local/lib/python3.10/dist-packages (from python-dateutil<3.0.0,>=2.1->botocore<1.36.0,>=1.35.79->boto3->pytorch_pretrained_bert) (1.16.0)\n",
            "Downloading pytorch_pretrained_bert-0.6.2-py3-none-any.whl (123 kB)\n",
            "\u001b[2K   \u001b[90m━━━━━━━━━━━━━━━━━━━━━━━━━━━━━━━━━━━━━━━━\u001b[0m \u001b[32m123.8/123.8 kB\u001b[0m \u001b[31m9.9 MB/s\u001b[0m eta \u001b[36m0:00:00\u001b[0m\n",
            "\u001b[?25hDownloading boto3-1.35.79-py3-none-any.whl (139 kB)\n",
            "\u001b[2K   \u001b[90m━━━━━━━━━━━━━━━━━━━━━━━━━━━━━━━━━━━━━━━━\u001b[0m \u001b[32m139.2/139.2 kB\u001b[0m \u001b[31m12.5 MB/s\u001b[0m eta \u001b[36m0:00:00\u001b[0m\n",
            "\u001b[?25hDownloading botocore-1.35.79-py3-none-any.whl (13.3 MB)\n",
            "\u001b[2K   \u001b[90m━━━━━━━━━━━━━━━━━━━━━━━━━━━━━━━━━━━━━━━━\u001b[0m \u001b[32m13.3/13.3 MB\u001b[0m \u001b[31m93.2 MB/s\u001b[0m eta \u001b[36m0:00:00\u001b[0m\n",
            "\u001b[?25hDownloading jmespath-1.0.1-py3-none-any.whl (20 kB)\n",
            "Downloading s3transfer-0.10.4-py3-none-any.whl (83 kB)\n",
            "\u001b[2K   \u001b[90m━━━━━━━━━━━━━━━━━━━━━━━━━━━━━━━━━━━━━━━━\u001b[0m \u001b[32m83.2/83.2 kB\u001b[0m \u001b[31m6.9 MB/s\u001b[0m eta \u001b[36m0:00:00\u001b[0m\n",
            "\u001b[?25hInstalling collected packages: jmespath, botocore, s3transfer, boto3, pytorch_pretrained_bert\n",
            "Successfully installed boto3-1.35.79 botocore-1.35.79 jmespath-1.0.1 pytorch_pretrained_bert-0.6.2 s3transfer-0.10.4\n"
          ]
        }
      ],
      "source": [
        "!pip install pytorch_pretrained_bert"
      ]
    },
    {
      "cell_type": "code",
      "source": [
        "!pip install transformers"
      ],
      "metadata": {
        "colab": {
          "base_uri": "https://localhost:8080/"
        },
        "id": "fyw-GkTVd9Rr",
        "outputId": "4805eac6-d721-4662-d1ee-da1cd2bef61f"
      },
      "execution_count": 2,
      "outputs": [
        {
          "output_type": "stream",
          "name": "stdout",
          "text": [
            "Requirement already satisfied: transformers in /usr/local/lib/python3.10/dist-packages (4.46.3)\n",
            "Requirement already satisfied: filelock in /usr/local/lib/python3.10/dist-packages (from transformers) (3.16.1)\n",
            "Requirement already satisfied: huggingface-hub<1.0,>=0.23.2 in /usr/local/lib/python3.10/dist-packages (from transformers) (0.26.3)\n",
            "Requirement already satisfied: numpy>=1.17 in /usr/local/lib/python3.10/dist-packages (from transformers) (1.26.4)\n",
            "Requirement already satisfied: packaging>=20.0 in /usr/local/lib/python3.10/dist-packages (from transformers) (24.2)\n",
            "Requirement already satisfied: pyyaml>=5.1 in /usr/local/lib/python3.10/dist-packages (from transformers) (6.0.2)\n",
            "Requirement already satisfied: regex!=2019.12.17 in /usr/local/lib/python3.10/dist-packages (from transformers) (2024.9.11)\n",
            "Requirement already satisfied: requests in /usr/local/lib/python3.10/dist-packages (from transformers) (2.32.3)\n",
            "Requirement already satisfied: tokenizers<0.21,>=0.20 in /usr/local/lib/python3.10/dist-packages (from transformers) (0.20.3)\n",
            "Requirement already satisfied: safetensors>=0.4.1 in /usr/local/lib/python3.10/dist-packages (from transformers) (0.4.5)\n",
            "Requirement already satisfied: tqdm>=4.27 in /usr/local/lib/python3.10/dist-packages (from transformers) (4.66.6)\n",
            "Requirement already satisfied: fsspec>=2023.5.0 in /usr/local/lib/python3.10/dist-packages (from huggingface-hub<1.0,>=0.23.2->transformers) (2024.10.0)\n",
            "Requirement already satisfied: typing-extensions>=3.7.4.3 in /usr/local/lib/python3.10/dist-packages (from huggingface-hub<1.0,>=0.23.2->transformers) (4.12.2)\n",
            "Requirement already satisfied: charset-normalizer<4,>=2 in /usr/local/lib/python3.10/dist-packages (from requests->transformers) (3.4.0)\n",
            "Requirement already satisfied: idna<4,>=2.5 in /usr/local/lib/python3.10/dist-packages (from requests->transformers) (3.10)\n",
            "Requirement already satisfied: urllib3<3,>=1.21.1 in /usr/local/lib/python3.10/dist-packages (from requests->transformers) (2.2.3)\n",
            "Requirement already satisfied: certifi>=2017.4.17 in /usr/local/lib/python3.10/dist-packages (from requests->transformers) (2024.8.30)\n"
          ]
        }
      ]
    },
    {
      "cell_type": "code",
      "source": [
        "from transformers import BertTokenizer\n",
        "from transformers import BertModel as BertModel2\n",
        "\n",
        "#torch\n",
        "import torch\n",
        "import torch.nn as nn\n",
        "import torch.nn.functional as F\n",
        "import torch.optim as optim\n",
        "from torch.utils.data import Dataset, DataLoader\n",
        "\n",
        "from collections import Counter\n",
        "\n",
        "import argparse\n",
        "import functools\n",
        "\n",
        "import json\n",
        "import numpy as np\n",
        "\n",
        "from tqdm import tqdm\n",
        "import shutil\n",
        "import os\n",
        "\n",
        "from sklearn.metrics import f1_score\n",
        "from sklearn.metrics import accuracy_score\n",
        "\n",
        "import pandas as pd\n"
      ],
      "metadata": {
        "id": "TgwXAXEgeEO1"
      },
      "execution_count": 3,
      "outputs": []
    },
    {
      "cell_type": "code",
      "source": [
        "import kagglehub\n",
        "from os import listdir\n",
        "\n",
        "path=kagglehub.dataset_download(\"saurabhshahane/ecommerce-text-classification\")"
      ],
      "metadata": {
        "id": "TM1Pb_CHkmcE",
        "colab": {
          "base_uri": "https://localhost:8080/"
        },
        "outputId": "a9e65081-51c4-4199-c315-7bb76b410014"
      },
      "execution_count": 4,
      "outputs": [
        {
          "output_type": "stream",
          "name": "stdout",
          "text": [
            "Downloading from https://www.kaggle.com/api/v1/datasets/download/saurabhshahane/ecommerce-text-classification?dataset_version_number=76...\n"
          ]
        },
        {
          "output_type": "stream",
          "name": "stderr",
          "text": [
            "100%|██████████| 7.86M/7.86M [00:01<00:00, 5.68MB/s]"
          ]
        },
        {
          "output_type": "stream",
          "name": "stdout",
          "text": [
            "Extracting files...\n"
          ]
        },
        {
          "output_type": "stream",
          "name": "stderr",
          "text": [
            "\n"
          ]
        }
      ]
    },
    {
      "cell_type": "code",
      "source": [
        "listdir(path)"
      ],
      "metadata": {
        "colab": {
          "base_uri": "https://localhost:8080/"
        },
        "id": "cG4JyMKhk-Cc",
        "outputId": "24a76523-46cf-40af-b984-29dac54d00ab"
      },
      "execution_count": 5,
      "outputs": [
        {
          "output_type": "execute_result",
          "data": {
            "text/plain": [
              "['ecommerceDataset.csv']"
            ]
          },
          "metadata": {},
          "execution_count": 5
        }
      ]
    },
    {
      "cell_type": "code",
      "source": [
        "data=pd.read_csv(path+\"/ecommerceDataset.csv\",names=[\"label\",\"product_description\"])"
      ],
      "metadata": {
        "id": "UFPZMbtUlAic"
      },
      "execution_count": 6,
      "outputs": []
    },
    {
      "cell_type": "code",
      "source": [
        "pd.DataFrame.head(data)"
      ],
      "metadata": {
        "colab": {
          "base_uri": "https://localhost:8080/",
          "height": 206
        },
        "id": "YGca-qWTlXvy",
        "outputId": "ff48a459-e653-4984-f517-bc9986dab865"
      },
      "execution_count": 7,
      "outputs": [
        {
          "output_type": "execute_result",
          "data": {
            "text/plain": [
              "       label                                product_description\n",
              "0  Household  Paper Plane Design Framed Wall Hanging Motivat...\n",
              "1  Household  SAF 'Floral' Framed Painting (Wood, 30 inch x ...\n",
              "2  Household  SAF 'UV Textured Modern Art Print Framed' Pain...\n",
              "3  Household  SAF Flower Print Framed Painting (Synthetic, 1...\n",
              "4  Household  Incredible Gifts India Wooden Happy Birthday U..."
            ],
            "text/html": [
              "\n",
              "  <div id=\"df-ae2b04c9-0377-45f3-9631-de480b6c200c\" class=\"colab-df-container\">\n",
              "    <div>\n",
              "<style scoped>\n",
              "    .dataframe tbody tr th:only-of-type {\n",
              "        vertical-align: middle;\n",
              "    }\n",
              "\n",
              "    .dataframe tbody tr th {\n",
              "        vertical-align: top;\n",
              "    }\n",
              "\n",
              "    .dataframe thead th {\n",
              "        text-align: right;\n",
              "    }\n",
              "</style>\n",
              "<table border=\"1\" class=\"dataframe\">\n",
              "  <thead>\n",
              "    <tr style=\"text-align: right;\">\n",
              "      <th></th>\n",
              "      <th>label</th>\n",
              "      <th>product_description</th>\n",
              "    </tr>\n",
              "  </thead>\n",
              "  <tbody>\n",
              "    <tr>\n",
              "      <th>0</th>\n",
              "      <td>Household</td>\n",
              "      <td>Paper Plane Design Framed Wall Hanging Motivat...</td>\n",
              "    </tr>\n",
              "    <tr>\n",
              "      <th>1</th>\n",
              "      <td>Household</td>\n",
              "      <td>SAF 'Floral' Framed Painting (Wood, 30 inch x ...</td>\n",
              "    </tr>\n",
              "    <tr>\n",
              "      <th>2</th>\n",
              "      <td>Household</td>\n",
              "      <td>SAF 'UV Textured Modern Art Print Framed' Pain...</td>\n",
              "    </tr>\n",
              "    <tr>\n",
              "      <th>3</th>\n",
              "      <td>Household</td>\n",
              "      <td>SAF Flower Print Framed Painting (Synthetic, 1...</td>\n",
              "    </tr>\n",
              "    <tr>\n",
              "      <th>4</th>\n",
              "      <td>Household</td>\n",
              "      <td>Incredible Gifts India Wooden Happy Birthday U...</td>\n",
              "    </tr>\n",
              "  </tbody>\n",
              "</table>\n",
              "</div>\n",
              "    <div class=\"colab-df-buttons\">\n",
              "\n",
              "  <div class=\"colab-df-container\">\n",
              "    <button class=\"colab-df-convert\" onclick=\"convertToInteractive('df-ae2b04c9-0377-45f3-9631-de480b6c200c')\"\n",
              "            title=\"Convert this dataframe to an interactive table.\"\n",
              "            style=\"display:none;\">\n",
              "\n",
              "  <svg xmlns=\"http://www.w3.org/2000/svg\" height=\"24px\" viewBox=\"0 -960 960 960\">\n",
              "    <path d=\"M120-120v-720h720v720H120Zm60-500h600v-160H180v160Zm220 220h160v-160H400v160Zm0 220h160v-160H400v160ZM180-400h160v-160H180v160Zm440 0h160v-160H620v160ZM180-180h160v-160H180v160Zm440 0h160v-160H620v160Z\"/>\n",
              "  </svg>\n",
              "    </button>\n",
              "\n",
              "  <style>\n",
              "    .colab-df-container {\n",
              "      display:flex;\n",
              "      gap: 12px;\n",
              "    }\n",
              "\n",
              "    .colab-df-convert {\n",
              "      background-color: #E8F0FE;\n",
              "      border: none;\n",
              "      border-radius: 50%;\n",
              "      cursor: pointer;\n",
              "      display: none;\n",
              "      fill: #1967D2;\n",
              "      height: 32px;\n",
              "      padding: 0 0 0 0;\n",
              "      width: 32px;\n",
              "    }\n",
              "\n",
              "    .colab-df-convert:hover {\n",
              "      background-color: #E2EBFA;\n",
              "      box-shadow: 0px 1px 2px rgba(60, 64, 67, 0.3), 0px 1px 3px 1px rgba(60, 64, 67, 0.15);\n",
              "      fill: #174EA6;\n",
              "    }\n",
              "\n",
              "    .colab-df-buttons div {\n",
              "      margin-bottom: 4px;\n",
              "    }\n",
              "\n",
              "    [theme=dark] .colab-df-convert {\n",
              "      background-color: #3B4455;\n",
              "      fill: #D2E3FC;\n",
              "    }\n",
              "\n",
              "    [theme=dark] .colab-df-convert:hover {\n",
              "      background-color: #434B5C;\n",
              "      box-shadow: 0px 1px 3px 1px rgba(0, 0, 0, 0.15);\n",
              "      filter: drop-shadow(0px 1px 2px rgba(0, 0, 0, 0.3));\n",
              "      fill: #FFFFFF;\n",
              "    }\n",
              "  </style>\n",
              "\n",
              "    <script>\n",
              "      const buttonEl =\n",
              "        document.querySelector('#df-ae2b04c9-0377-45f3-9631-de480b6c200c button.colab-df-convert');\n",
              "      buttonEl.style.display =\n",
              "        google.colab.kernel.accessAllowed ? 'block' : 'none';\n",
              "\n",
              "      async function convertToInteractive(key) {\n",
              "        const element = document.querySelector('#df-ae2b04c9-0377-45f3-9631-de480b6c200c');\n",
              "        const dataTable =\n",
              "          await google.colab.kernel.invokeFunction('convertToInteractive',\n",
              "                                                    [key], {});\n",
              "        if (!dataTable) return;\n",
              "\n",
              "        const docLinkHtml = 'Like what you see? Visit the ' +\n",
              "          '<a target=\"_blank\" href=https://colab.research.google.com/notebooks/data_table.ipynb>data table notebook</a>'\n",
              "          + ' to learn more about interactive tables.';\n",
              "        element.innerHTML = '';\n",
              "        dataTable['output_type'] = 'display_data';\n",
              "        await google.colab.output.renderOutput(dataTable, element);\n",
              "        const docLink = document.createElement('div');\n",
              "        docLink.innerHTML = docLinkHtml;\n",
              "        element.appendChild(docLink);\n",
              "      }\n",
              "    </script>\n",
              "  </div>\n",
              "\n",
              "\n",
              "<div id=\"df-1c97226c-4243-461b-86e4-634cc3c15e18\">\n",
              "  <button class=\"colab-df-quickchart\" onclick=\"quickchart('df-1c97226c-4243-461b-86e4-634cc3c15e18')\"\n",
              "            title=\"Suggest charts\"\n",
              "            style=\"display:none;\">\n",
              "\n",
              "<svg xmlns=\"http://www.w3.org/2000/svg\" height=\"24px\"viewBox=\"0 0 24 24\"\n",
              "     width=\"24px\">\n",
              "    <g>\n",
              "        <path d=\"M19 3H5c-1.1 0-2 .9-2 2v14c0 1.1.9 2 2 2h14c1.1 0 2-.9 2-2V5c0-1.1-.9-2-2-2zM9 17H7v-7h2v7zm4 0h-2V7h2v10zm4 0h-2v-4h2v4z\"/>\n",
              "    </g>\n",
              "</svg>\n",
              "  </button>\n",
              "\n",
              "<style>\n",
              "  .colab-df-quickchart {\n",
              "      --bg-color: #E8F0FE;\n",
              "      --fill-color: #1967D2;\n",
              "      --hover-bg-color: #E2EBFA;\n",
              "      --hover-fill-color: #174EA6;\n",
              "      --disabled-fill-color: #AAA;\n",
              "      --disabled-bg-color: #DDD;\n",
              "  }\n",
              "\n",
              "  [theme=dark] .colab-df-quickchart {\n",
              "      --bg-color: #3B4455;\n",
              "      --fill-color: #D2E3FC;\n",
              "      --hover-bg-color: #434B5C;\n",
              "      --hover-fill-color: #FFFFFF;\n",
              "      --disabled-bg-color: #3B4455;\n",
              "      --disabled-fill-color: #666;\n",
              "  }\n",
              "\n",
              "  .colab-df-quickchart {\n",
              "    background-color: var(--bg-color);\n",
              "    border: none;\n",
              "    border-radius: 50%;\n",
              "    cursor: pointer;\n",
              "    display: none;\n",
              "    fill: var(--fill-color);\n",
              "    height: 32px;\n",
              "    padding: 0;\n",
              "    width: 32px;\n",
              "  }\n",
              "\n",
              "  .colab-df-quickchart:hover {\n",
              "    background-color: var(--hover-bg-color);\n",
              "    box-shadow: 0 1px 2px rgba(60, 64, 67, 0.3), 0 1px 3px 1px rgba(60, 64, 67, 0.15);\n",
              "    fill: var(--button-hover-fill-color);\n",
              "  }\n",
              "\n",
              "  .colab-df-quickchart-complete:disabled,\n",
              "  .colab-df-quickchart-complete:disabled:hover {\n",
              "    background-color: var(--disabled-bg-color);\n",
              "    fill: var(--disabled-fill-color);\n",
              "    box-shadow: none;\n",
              "  }\n",
              "\n",
              "  .colab-df-spinner {\n",
              "    border: 2px solid var(--fill-color);\n",
              "    border-color: transparent;\n",
              "    border-bottom-color: var(--fill-color);\n",
              "    animation:\n",
              "      spin 1s steps(1) infinite;\n",
              "  }\n",
              "\n",
              "  @keyframes spin {\n",
              "    0% {\n",
              "      border-color: transparent;\n",
              "      border-bottom-color: var(--fill-color);\n",
              "      border-left-color: var(--fill-color);\n",
              "    }\n",
              "    20% {\n",
              "      border-color: transparent;\n",
              "      border-left-color: var(--fill-color);\n",
              "      border-top-color: var(--fill-color);\n",
              "    }\n",
              "    30% {\n",
              "      border-color: transparent;\n",
              "      border-left-color: var(--fill-color);\n",
              "      border-top-color: var(--fill-color);\n",
              "      border-right-color: var(--fill-color);\n",
              "    }\n",
              "    40% {\n",
              "      border-color: transparent;\n",
              "      border-right-color: var(--fill-color);\n",
              "      border-top-color: var(--fill-color);\n",
              "    }\n",
              "    60% {\n",
              "      border-color: transparent;\n",
              "      border-right-color: var(--fill-color);\n",
              "    }\n",
              "    80% {\n",
              "      border-color: transparent;\n",
              "      border-right-color: var(--fill-color);\n",
              "      border-bottom-color: var(--fill-color);\n",
              "    }\n",
              "    90% {\n",
              "      border-color: transparent;\n",
              "      border-bottom-color: var(--fill-color);\n",
              "    }\n",
              "  }\n",
              "</style>\n",
              "\n",
              "  <script>\n",
              "    async function quickchart(key) {\n",
              "      const quickchartButtonEl =\n",
              "        document.querySelector('#' + key + ' button');\n",
              "      quickchartButtonEl.disabled = true;  // To prevent multiple clicks.\n",
              "      quickchartButtonEl.classList.add('colab-df-spinner');\n",
              "      try {\n",
              "        const charts = await google.colab.kernel.invokeFunction(\n",
              "            'suggestCharts', [key], {});\n",
              "      } catch (error) {\n",
              "        console.error('Error during call to suggestCharts:', error);\n",
              "      }\n",
              "      quickchartButtonEl.classList.remove('colab-df-spinner');\n",
              "      quickchartButtonEl.classList.add('colab-df-quickchart-complete');\n",
              "    }\n",
              "    (() => {\n",
              "      let quickchartButtonEl =\n",
              "        document.querySelector('#df-1c97226c-4243-461b-86e4-634cc3c15e18 button');\n",
              "      quickchartButtonEl.style.display =\n",
              "        google.colab.kernel.accessAllowed ? 'block' : 'none';\n",
              "    })();\n",
              "  </script>\n",
              "</div>\n",
              "\n",
              "    </div>\n",
              "  </div>\n"
            ],
            "application/vnd.google.colaboratory.intrinsic+json": {
              "type": "dataframe",
              "summary": "{\n  \"name\": \"pd\",\n  \"rows\": 5,\n  \"fields\": [\n    {\n      \"column\": \"label\",\n      \"properties\": {\n        \"dtype\": \"category\",\n        \"num_unique_values\": 1,\n        \"samples\": [\n          \"Household\"\n        ],\n        \"semantic_type\": \"\",\n        \"description\": \"\"\n      }\n    },\n    {\n      \"column\": \"product_description\",\n      \"properties\": {\n        \"dtype\": \"string\",\n        \"num_unique_values\": 5,\n        \"samples\": [\n          \"SAF 'Floral' Framed Painting (Wood, 30 inch x 10 inch, Special Effect UV Print Textured, SAO297) Painting made up in synthetic frame with UV textured print which gives multi effects and attracts towards it. This is an special series of paintings which makes your wall very beautiful and gives a royal touch (A perfect gift for your special ones).\"\n        ],\n        \"semantic_type\": \"\",\n        \"description\": \"\"\n      }\n    }\n  ]\n}"
            }
          },
          "metadata": {},
          "execution_count": 7
        }
      ]
    },
    {
      "cell_type": "code",
      "source": [
        "data[\"type\"]=data.product_description.apply(lambda e: isinstance(e,str))\n",
        "#Para cada descripcion, revisa si es un string. Si lo es, en el campo type agrega true."
      ],
      "metadata": {
        "id": "V_x-bDiCl5Kf"
      },
      "execution_count": 8,
      "outputs": []
    },
    {
      "cell_type": "code",
      "source": [
        "data[data.type==False]#Hay 39330 sin descripcion de producto."
      ],
      "metadata": {
        "colab": {
          "base_uri": "https://localhost:8080/",
          "height": 81
        },
        "id": "crJ_qNhGmDVK",
        "outputId": "9f619b89-c8e3-4fb8-dd80-646a07f12a12"
      },
      "execution_count": 9,
      "outputs": [
        {
          "output_type": "execute_result",
          "data": {
            "text/plain": [
              "                        label product_description   type\n",
              "39330  Clothing & Accessories                 NaN  False"
            ],
            "text/html": [
              "\n",
              "  <div id=\"df-967594e3-ca56-49b4-9f8d-463f361793ea\" class=\"colab-df-container\">\n",
              "    <div>\n",
              "<style scoped>\n",
              "    .dataframe tbody tr th:only-of-type {\n",
              "        vertical-align: middle;\n",
              "    }\n",
              "\n",
              "    .dataframe tbody tr th {\n",
              "        vertical-align: top;\n",
              "    }\n",
              "\n",
              "    .dataframe thead th {\n",
              "        text-align: right;\n",
              "    }\n",
              "</style>\n",
              "<table border=\"1\" class=\"dataframe\">\n",
              "  <thead>\n",
              "    <tr style=\"text-align: right;\">\n",
              "      <th></th>\n",
              "      <th>label</th>\n",
              "      <th>product_description</th>\n",
              "      <th>type</th>\n",
              "    </tr>\n",
              "  </thead>\n",
              "  <tbody>\n",
              "    <tr>\n",
              "      <th>39330</th>\n",
              "      <td>Clothing &amp; Accessories</td>\n",
              "      <td>NaN</td>\n",
              "      <td>False</td>\n",
              "    </tr>\n",
              "  </tbody>\n",
              "</table>\n",
              "</div>\n",
              "    <div class=\"colab-df-buttons\">\n",
              "\n",
              "  <div class=\"colab-df-container\">\n",
              "    <button class=\"colab-df-convert\" onclick=\"convertToInteractive('df-967594e3-ca56-49b4-9f8d-463f361793ea')\"\n",
              "            title=\"Convert this dataframe to an interactive table.\"\n",
              "            style=\"display:none;\">\n",
              "\n",
              "  <svg xmlns=\"http://www.w3.org/2000/svg\" height=\"24px\" viewBox=\"0 -960 960 960\">\n",
              "    <path d=\"M120-120v-720h720v720H120Zm60-500h600v-160H180v160Zm220 220h160v-160H400v160Zm0 220h160v-160H400v160ZM180-400h160v-160H180v160Zm440 0h160v-160H620v160ZM180-180h160v-160H180v160Zm440 0h160v-160H620v160Z\"/>\n",
              "  </svg>\n",
              "    </button>\n",
              "\n",
              "  <style>\n",
              "    .colab-df-container {\n",
              "      display:flex;\n",
              "      gap: 12px;\n",
              "    }\n",
              "\n",
              "    .colab-df-convert {\n",
              "      background-color: #E8F0FE;\n",
              "      border: none;\n",
              "      border-radius: 50%;\n",
              "      cursor: pointer;\n",
              "      display: none;\n",
              "      fill: #1967D2;\n",
              "      height: 32px;\n",
              "      padding: 0 0 0 0;\n",
              "      width: 32px;\n",
              "    }\n",
              "\n",
              "    .colab-df-convert:hover {\n",
              "      background-color: #E2EBFA;\n",
              "      box-shadow: 0px 1px 2px rgba(60, 64, 67, 0.3), 0px 1px 3px 1px rgba(60, 64, 67, 0.15);\n",
              "      fill: #174EA6;\n",
              "    }\n",
              "\n",
              "    .colab-df-buttons div {\n",
              "      margin-bottom: 4px;\n",
              "    }\n",
              "\n",
              "    [theme=dark] .colab-df-convert {\n",
              "      background-color: #3B4455;\n",
              "      fill: #D2E3FC;\n",
              "    }\n",
              "\n",
              "    [theme=dark] .colab-df-convert:hover {\n",
              "      background-color: #434B5C;\n",
              "      box-shadow: 0px 1px 3px 1px rgba(0, 0, 0, 0.15);\n",
              "      filter: drop-shadow(0px 1px 2px rgba(0, 0, 0, 0.3));\n",
              "      fill: #FFFFFF;\n",
              "    }\n",
              "  </style>\n",
              "\n",
              "    <script>\n",
              "      const buttonEl =\n",
              "        document.querySelector('#df-967594e3-ca56-49b4-9f8d-463f361793ea button.colab-df-convert');\n",
              "      buttonEl.style.display =\n",
              "        google.colab.kernel.accessAllowed ? 'block' : 'none';\n",
              "\n",
              "      async function convertToInteractive(key) {\n",
              "        const element = document.querySelector('#df-967594e3-ca56-49b4-9f8d-463f361793ea');\n",
              "        const dataTable =\n",
              "          await google.colab.kernel.invokeFunction('convertToInteractive',\n",
              "                                                    [key], {});\n",
              "        if (!dataTable) return;\n",
              "\n",
              "        const docLinkHtml = 'Like what you see? Visit the ' +\n",
              "          '<a target=\"_blank\" href=https://colab.research.google.com/notebooks/data_table.ipynb>data table notebook</a>'\n",
              "          + ' to learn more about interactive tables.';\n",
              "        element.innerHTML = '';\n",
              "        dataTable['output_type'] = 'display_data';\n",
              "        await google.colab.output.renderOutput(dataTable, element);\n",
              "        const docLink = document.createElement('div');\n",
              "        docLink.innerHTML = docLinkHtml;\n",
              "        element.appendChild(docLink);\n",
              "      }\n",
              "    </script>\n",
              "  </div>\n",
              "\n",
              "\n",
              "    </div>\n",
              "  </div>\n"
            ],
            "application/vnd.google.colaboratory.intrinsic+json": {
              "type": "dataframe",
              "repr_error": "0"
            }
          },
          "metadata": {},
          "execution_count": 9
        }
      ]
    },
    {
      "cell_type": "code",
      "source": [
        "data=data[data.type==True]"
      ],
      "metadata": {
        "id": "vkOv1zd3mcOU"
      },
      "execution_count": 10,
      "outputs": []
    },
    {
      "cell_type": "code",
      "source": [
        "print(\"Tamaño del data set: \",len(data))"
      ],
      "metadata": {
        "colab": {
          "base_uri": "https://localhost:8080/"
        },
        "id": "u_i8LqZ1mzey",
        "outputId": "24f7b20a-6198-47eb-9964-ebd47ad96f46"
      },
      "execution_count": 11,
      "outputs": [
        {
          "output_type": "stream",
          "name": "stdout",
          "text": [
            "Tamaño del data set:  50424\n"
          ]
        }
      ]
    },
    {
      "cell_type": "code",
      "source": [
        "# prompt: tomemos un subconjunto aleatorio de 0.15 del dataset data\n",
        "\n",
        "#Tomemos un subconjunto aleatorio de 0.15 del dataset data\n",
        "data_subset = data.sample(frac=0.15, random_state=42) # random_state asegura reproducibilidad\n",
        "print(\"Tamaño del subconjunto de datos: \", len(data_subset))"
      ],
      "metadata": {
        "colab": {
          "base_uri": "https://localhost:8080/"
        },
        "id": "y6vXNC8Om40A",
        "outputId": "36672625-0e6c-41ca-dc5b-777bc0ee1291"
      },
      "execution_count": 12,
      "outputs": [
        {
          "output_type": "stream",
          "name": "stdout",
          "text": [
            "Tamaño del subconjunto de datos:  7564\n"
          ]
        }
      ]
    },
    {
      "cell_type": "code",
      "source": [
        "from matplotlib import pyplot as plt\n",
        "import seaborn as sns\n",
        "data.groupby('label').size().plot(kind='bar', title='Número de productos por categoría')"
      ],
      "metadata": {
        "colab": {
          "base_uri": "https://localhost:8080/",
          "height": 634
        },
        "id": "Sby4Vp5GnB44",
        "outputId": "b4a2e8d7-c1b5-477d-edb6-68aebcb118c6"
      },
      "execution_count": 13,
      "outputs": [
        {
          "output_type": "execute_result",
          "data": {
            "text/plain": [
              "<Axes: title={'center': 'Número de productos por categoría'}, xlabel='label'>"
            ]
          },
          "metadata": {},
          "execution_count": 13
        },
        {
          "output_type": "display_data",
          "data": {
            "text/plain": [
              "<Figure size 640x480 with 1 Axes>"
            ],
            "image/png": "[encoded data removed]"
          },
          "metadata": {}
        }
      ]
    },
    {
      "cell_type": "code",
      "source": [
        "from sklearn.model_selection import train_test_split\n",
        "train_set, test_set = train_test_split(data_subset, test_size=0.1, random_state=42)"
      ],
      "metadata": {
        "id": "NLbPB_ZOnVKl"
      },
      "execution_count": 39,
      "outputs": []
    },
    {
      "cell_type": "code",
      "source": [
        "train_set, val_set = train_test_split(train_set, test_size=0.11, random_state=42)"
      ],
      "metadata": {
        "id": "d0UEhZ-tnkHI"
      },
      "execution_count": 41,
      "outputs": []
    },
    {
      "cell_type": "code",
      "source": [
        "train_set.to_csv(\"train.csv\")\n",
        "val_set.to_csv(\"val.csv\")\n",
        "test_set.to_csv(\"test.csv\")"
      ],
      "metadata": {
        "id": "vxHdJkh9iYX-"
      },
      "execution_count": 44,
      "outputs": []
    },
    {
      "cell_type": "code",
      "source": [
        "# prompt: muestra los tamaños de train, val, test\n",
        "\n",
        "print(\"Tamaño del conjunto de entrenamiento:\", len(train))\n",
        "print(\"Tamaño del conjunto de validación:\", len(val))\n",
        "print(\"Tamaño del conjunto de prueba:\", len(test))"
      ],
      "metadata": {
        "colab": {
          "base_uri": "https://localhost:8080/"
        },
        "id": "MJN8Kn4znp9u",
        "outputId": "03d9c1cb-66da-40ca-fc7e-98ea16e9a58b"
      },
      "execution_count": 16,
      "outputs": [
        {
          "output_type": "stream",
          "name": "stdout",
          "text": [
            "Tamaño del conjunto de entrenamiento: 6058\n",
            "Tamaño del conjunto de validación: 749\n",
            "Tamaño del conjunto de prueba: 757\n"
          ]
        }
      ]
    },
    {
      "cell_type": "markdown",
      "source": [
        "## Procesamiento del Dataset"
      ],
      "metadata": {
        "id": "fqXUEYktn60H"
      }
    },
    {
      "cell_type": "code",
      "source": [
        "###Será mucho código."
      ],
      "metadata": {
        "id": "T_ENhWFkn9i6"
      },
      "execution_count": null,
      "outputs": []
    },
    {
      "cell_type": "markdown",
      "source": [
        "Procesamiento del dataset"
      ],
      "metadata": {
        "id": "zNxCY90xe7D0"
      }
    },
    {
      "cell_type": "markdown",
      "source": [
        "Los siguientes 4 bloques no entiendo bien para qué son o si son necesarios."
      ],
      "metadata": {
        "id": "KG4THqrDfhru"
      }
    },
    {
      "cell_type": "code",
      "source": [
        "class EcommerceDataset(Dataset):\n",
        "    def __init__(self, data_path, args):\n",
        "        \"\"\"\n",
        "          data_path: ruta del archivo .csv que contiene labels y product_descriptions\n",
        "          args: hiperparámetros\n",
        "\n",
        "        \"\"\"\n",
        "        self.data = pd.read_csv(data_path)\n",
        "        self.tokenizer = BertTokenizer.from_pretrained(args.bert_model) #función preprocesa y divide el texto en tokens\n",
        "        self.args = args\n",
        "        self.n_classes = len(args.labels)#En nuestro caso son 4 clases\n",
        "        self.max_seq_len = args.max_seq_len #512\n",
        "\n",
        "\n",
        "    def __len__(self):\n",
        "        return len(self.data)#longitud de los datos\n",
        "\n",
        "    def load_text(self, index, key=\"\"):\n",
        "      inputs=self.tokenizer(self.data.loc[index][key], return_tensors=\"pt\", padding='max_length',truncation=True)\n",
        "      sentence=inputs.input_ids[0]\n",
        "      segment=inputs.token_type_ids[0]\n",
        "      attmask=inputs.attention_mask[0]\n",
        "\n",
        "      return sentence, segment, attmask\n",
        "\n",
        "\n",
        "\n",
        "    def __getitem__(self, index):\n",
        "      sentence, segment, attmask = None, None, None\n",
        "\n",
        "      # Load text\n",
        "      sentence, segment, attmask= self.load_text(index,\"product_description\")\n",
        "\n",
        "\n",
        "      # Process labels\n",
        "      label = torch.zeros(self.n_classes)\n",
        "      tgt = self.data.loc[index][\"label\"]\n",
        "      label[self.args.labels.index(tgt)] = 1\n",
        "\n",
        "\n",
        "      return sentence, segment, attmask, label"
      ],
      "metadata": {
        "id": "g4hpyE5jOVkl"
      },
      "execution_count": 17,
      "outputs": []
    },
    {
      "cell_type": "code",
      "source": [
        "def get_labels_and_frequencies(path):\n",
        "    label_freqs = Counter()\n",
        "    data_labels = list(pd.read_csv(path).label)\n",
        "    label_freqs.update(data_labels)\n",
        "\n",
        "    return list(label_freqs.keys()), label_freqs"
      ],
      "metadata": {
        "id": "wtNGmZKUfal5"
      },
      "execution_count": 18,
      "outputs": []
    },
    {
      "cell_type": "code",
      "source": [
        "def collate_fn(batch, args):\n",
        "\n",
        "    text_tensor, segment_tensor, attmask_tensor,= None, None, None\n",
        "\n",
        "    text_tensor=torch.stack([row[0] for row in batch])\n",
        "    segment_tensor=torch.stack([row[1] for row in batch])\n",
        "    attmask_tensor=torch.stack([row[2] for row in batch])\n",
        "\n",
        "    tgt_tensor = torch.stack([row[3] for row in batch])\n",
        "\n",
        "    return text_tensor, segment_tensor, attmask_tensor, tgt_tensor"
      ],
      "metadata": {
        "id": "BkxHnVw6fcGo"
      },
      "execution_count": 19,
      "outputs": []
    },
    {
      "cell_type": "code",
      "source": [
        "def get_data_loaders(args):\n",
        "\n",
        "  args.labels, args.label_freqs = get_labels_and_frequencies(\n",
        "            os.path.join(args.data_path, args.task, \"train.csv\")\n",
        "        )\n",
        "\n",
        "  args.n_classes = len(args.labels)\n",
        "\n",
        "  train = EcommerceDataset(\n",
        "            os.path.join(args.data_path, \"train.csv\"),\n",
        "            args,\n",
        "        )\n",
        "\n",
        "  args.train_data_len = len(train)\n",
        "\n",
        "  dev = EcommerceDataset(\n",
        "        os.path.join(args.data_path, \"val.csv\"),\n",
        "        args,\n",
        "    )\n",
        "\n",
        "  test_set = EcommerceDataset(\n",
        "        os.path.join(args.data_path, \"test.csv\"),\n",
        "        args\n",
        "    )\n",
        "\n",
        "  collate = functools.partial(collate_fn, args=args)\n",
        "\n",
        "  train_loader = DataLoader(\n",
        "        train,\n",
        "        batch_size=args.batch_sz,\n",
        "        shuffle=True,\n",
        "        num_workers=args.n_workers,\n",
        "        collate_fn=collate,\n",
        "    )\n",
        "\n",
        "  val_loader = DataLoader(\n",
        "        dev,\n",
        "        batch_size=args.batch_sz,\n",
        "        shuffle=False,\n",
        "        num_workers=args.n_workers,\n",
        "        collate_fn=collate,\n",
        "    )\n",
        "  test_loader = DataLoader(\n",
        "        test_set,\n",
        "        batch_size=args.batch_sz,\n",
        "        shuffle=False,\n",
        "        num_workers=args.n_workers,\n",
        "        collate_fn=collate,\n",
        "    )\n",
        "\n",
        "  return train_loader, val_loader, test_loader"
      ],
      "metadata": {
        "id": "6-IlasQuffJK"
      },
      "execution_count": 20,
      "outputs": []
    },
    {
      "cell_type": "markdown",
      "source": [
        "#Configuracion del entrenamiento"
      ],
      "metadata": {
        "id": "Ump50zFIfqx0"
      }
    },
    {
      "cell_type": "code",
      "source": [
        "import random\n",
        "#Para reproducción de resultados\n",
        "def set_seed(seed):\n",
        "    random.seed(seed)\n",
        "    np.random.seed(seed)\n",
        "    torch.manual_seed(seed)\n",
        "    torch.cuda.manual_seed(seed)\n",
        "    torch.cuda.manual_seed_all(seed)\n",
        "    torch.backends.cudnn.deterministic = True\n",
        "    torch.backends.cudnn.benchmark = False"
      ],
      "metadata": {
        "id": "iGNp7XU7ff9P"
      },
      "execution_count": 21,
      "outputs": []
    },
    {
      "cell_type": "code",
      "source": [
        "def model_forward(i_epoch, model, args, criterion, batch):\n",
        "\n",
        "    txt, segment, attmask, tgt= batch\n",
        "    txt, attmask, segment = txt.cuda(), attmask.cuda(), segment.cuda()\n",
        "    out = model(txt, attmask, segment) #out for supervised loss\n",
        "\n",
        "    tgt = tgt.cuda()\n",
        "    final_loss = criterion(out, tgt)\n",
        "\n",
        "    return final_loss, out, tgt"
      ],
      "metadata": {
        "id": "i1bdGySjfwHD"
      },
      "execution_count": 22,
      "outputs": []
    },
    {
      "cell_type": "code",
      "source": [
        "from sklearn.metrics import f1_score, accuracy_score, average_precision_score\n",
        "from sklearn.metrics import classification_report"
      ],
      "metadata": {
        "id": "pohKzAm0f58R"
      },
      "execution_count": 23,
      "outputs": []
    },
    {
      "cell_type": "code",
      "source": [
        "def model_eval(i_epoch, data, model, args, criterion):\n",
        "    with torch.no_grad():\n",
        "        losses, preds, tgts = [], [], []\n",
        "        probs= []\n",
        "        for batch in data:\n",
        "            loss, out, tgt = model_forward(i_epoch, model, args, criterion, batch)\n",
        "            losses.append(loss.item())\n",
        "\n",
        "            prob = torch.nn.functional.softmax(out,dim=-1).cpu().detach().numpy()\n",
        "            index_max = prob.argmax(axis=-1)\n",
        "            pred = np.zeros(prob.shape)\n",
        "            for i in range(len(index_max)):\n",
        "                pred[i][index_max[i]]=1\n",
        "\n",
        "\n",
        "            preds.append(pred)\n",
        "            probs.append(prob)\n",
        "            tgt = tgt.cpu().detach().numpy()\n",
        "            tgts.append(tgt)\n",
        "\n",
        "    tgts = np.vstack(tgts)\n",
        "    preds = np.vstack(preds)\n",
        "    probs = np.vstack(probs)\n",
        "    report = classification_report(tgts, preds, output_dict=True)\n",
        "    #print(report)\n",
        "    metrics = {\"loss\": np.mean(losses)}\n",
        "    metrics = {\"weighted avg\": report['weighted avg']}\n",
        "\n",
        "    return metrics"
      ],
      "metadata": {
        "id": "NZBs-qusf7VO"
      },
      "execution_count": 24,
      "outputs": []
    },
    {
      "cell_type": "code",
      "source": [
        "def save_checkpoint(state, is_best, checkpoint_path, filename=\"checkpoint.pt\"):\n",
        "    filename = os.path.join(checkpoint_path, filename)\n",
        "    torch.save(state, filename)\n",
        "    if is_best:\n",
        "        shutil.copyfile(filename, os.path.join(checkpoint_path, \"model_best.pt\"))"
      ],
      "metadata": {
        "id": "QjyQd1x7f8ib"
      },
      "execution_count": 25,
      "outputs": []
    },
    {
      "cell_type": "code",
      "source": [
        "def train(args,model):\n",
        "    args.savedir = os.path.join(args.savedir, args.name)\n",
        "    os.makedirs(args.savedir, exist_ok=True)\n",
        "\n",
        "    model.cuda()\n",
        "\n",
        "    torch.save(args, os.path.join(args.savedir, \"args.pt\"))\n",
        "\n",
        "    start_epoch, global_step, n_no_improve, best_metric = 0, 0, 0, -np.inf\n",
        "\n",
        "    #Cargar estado del modelo si ya existía previamente\n",
        "    if os.path.exists(os.path.join(args.savedir, \"checkpoint.pt\")):\n",
        "        checkpoint = torch.load(os.path.join(args.savedir, \"checkpoint.pt\"))\n",
        "        start_epoch = checkpoint[\"epoch\"]\n",
        "        n_no_improve = checkpoint[\"n_no_improve\"]\n",
        "        best_metric = checkpoint[\"best_metric\"]\n",
        "        model.load_state_dict(checkpoint[\"state_dict\"])\n",
        "        optimizer.load_state_dict(checkpoint[\"optimizer\"])\n",
        "        scheduler.load_state_dict(checkpoint[\"scheduler\"])\n",
        "\n",
        "    len_train =len(train_loader)\n",
        "    for i_epoch in range(start_epoch, args.max_epochs):\n",
        "        train_losses = []\n",
        "        model.train()\n",
        "        optimizer.zero_grad()\n",
        "\n",
        "        for batch in tqdm(train_loader, total=len_train):\n",
        "            loss, _, _ = model_forward(i_epoch, model, args, criterion, batch)\n",
        "            if args.gradient_accumulation_steps > 1:\n",
        "                loss = loss / args.gradient_accumulation_steps\n",
        "\n",
        "            train_losses.append(loss.item())\n",
        "            loss.backward()\n",
        "            global_step += 1\n",
        "            if global_step % args.gradient_accumulation_steps == 0:\n",
        "                optimizer.step()\n",
        "                optimizer.zero_grad()\n",
        "\n",
        "        model.eval() #desactiva el dropout\n",
        "        metrics= model_eval(i_epoch, val_loader, model, args, criterion)\n",
        "        print(\"Train Loss: {:.4f}\".format(np.mean(train_losses)))\n",
        "        print(\"Val:\", metrics)\n",
        "\n",
        "        tuning_metric = (\n",
        "            metrics['weighted avg']['f1-score']\n",
        "        )\n",
        "\n",
        "        scheduler.step(tuning_metric)\n",
        "        is_improvement = tuning_metric > best_metric\n",
        "        if is_improvement:\n",
        "            best_metric = tuning_metric\n",
        "            n_no_improve = 0\n",
        "        else:\n",
        "            n_no_improve += 1\n",
        "\n",
        "        #Guardar estado actual del modelo\n",
        "        save_checkpoint(\n",
        "            {\n",
        "                \"epoch\": i_epoch + 1,\n",
        "                \"state_dict\": model.state_dict(),\n",
        "                \"optimizer\": optimizer.state_dict(),\n",
        "                \"scheduler\": scheduler.state_dict(),\n",
        "                \"n_no_improve\": n_no_improve,\n",
        "                \"best_metric\": best_metric,\n",
        "            },\n",
        "            is_improvement,\n",
        "            args.savedir,\n",
        "        )\n",
        "\n",
        "        if n_no_improve >= args.patience:\n",
        "              print(\"No improvement. Breaking out of loop.\")\n",
        "              break\n",
        "\n",
        "    load_checkpoint(model, os.path.join(args.savedir, \"model_best.pt\"))\n",
        "    model.eval()\n",
        "    test_metrics= model_eval(\n",
        "        np.inf, test_loader, model, args, criterion\n",
        "    )\n",
        "    print(f\"Test:\", test_metrics)"
      ],
      "metadata": {
        "id": "Q-fe1dcFgAq8"
      },
      "execution_count": 26,
      "outputs": []
    },
    {
      "cell_type": "code",
      "source": [
        "def load_checkpoint(model, path):\n",
        "    best_checkpoint = torch.load(path)\n",
        "    model.load_state_dict(best_checkpoint[\"state_dict\"])"
      ],
      "metadata": {
        "id": "oE2Z5GfcgP6P"
      },
      "execution_count": 27,
      "outputs": []
    },
    {
      "cell_type": "markdown",
      "source": [
        "#Ahora sí usar BERT"
      ],
      "metadata": {
        "id": "iR1pxNlognZd"
      }
    },
    {
      "cell_type": "code",
      "source": [
        "class BertClf(nn.Module):\n",
        "    def __init__(self, args):\n",
        "        super(BertClf, self).__init__()\n",
        "        self.args = args\n",
        "        self.bert = BertModel2.from_pretrained(args.bert_model) #Encoder\n",
        "        self.dropout= nn.Dropout(args.dropout)\n",
        "        self.clf = nn.Linear(args.hidden_sz, args.n_classes) #Cabezal de clasificación\n",
        "\n",
        "    def forward(self, txt, mask, segment):\n",
        "        _, x = self.bert(\n",
        "            input_ids=txt,\n",
        "            token_type_ids=segment,\n",
        "            attention_mask=mask,\n",
        "            return_dict=False,\n",
        "        )\n",
        "        x= self.dropout(x)\n",
        "        return self.clf(x)"
      ],
      "metadata": {
        "id": "oPwxs6IIgpFx"
      },
      "execution_count": 28,
      "outputs": []
    },
    {
      "cell_type": "code",
      "source": [
        "set_seed(1)\n",
        "args = argparse.Namespace(\n",
        "        bert_model=\"bert-base-uncased\",\n",
        "        model=\"bert\",\n",
        "        batch_sz=8,\n",
        "        max_seq_len=512,\n",
        "        n_workers=2,\n",
        "        dropout=0.1,\n",
        "        hidden_sz=768,\n",
        "        gradient_accumulation_steps=16,\n",
        "        max_epochs=10,\n",
        "        patience=2,\n",
        "        lr=1e-4,\n",
        "        lr_patience=2,\n",
        "        lr_factor = 0.5,\n",
        "        warmup=0.1,\n",
        "        data_path=\"\",\n",
        "        task=\"\",\n",
        "        savedir=\"\",\n",
        "        name=\"bert_base_1\",\n",
        "    )"
      ],
      "metadata": {
        "id": "CmkNmSfwgrRN"
      },
      "execution_count": 29,
      "outputs": []
    },
    {
      "cell_type": "code",
      "source": [
        "train_loader, val_loader, test_loader = get_data_loaders(args)"
      ],
      "metadata": {
        "id": "ahNwA4BWgser"
      },
      "execution_count": 45,
      "outputs": []
    },
    {
      "cell_type": "code",
      "source": [
        "#Modelo\n",
        "bert_base = BertClf(args)"
      ],
      "metadata": {
        "colab": {
          "base_uri": "https://localhost:8080/",
          "height": 49,
          "referenced_widgets": [
            "e2409a7e74e74f6e81cfdd92b55244b6",
            "63e66e0c275749c99dae201ab902b872",
            "750665d0b3074a4797201b224b59d0d6",
            "56f8f124ade7441d80a9809bebe9a34e",
            "8d882532b171444d8fb57d62f253b65c",
            "12c9167b45a049d3ac11863954edcddf",
            "923a10867dea40c7a889134ebc89d1b2",
            "0afd0c615d864dbbb575458e1c19610b",
            "fd3330746a754dfd8ae7faaaeb35e0b7",
            "7c959da4bb194b078f3ceec637c6fa09",
            "d9f787caf2c34a82a3f41ddb220acd47"
          ]
        },
        "id": "wRPwq7Kvgtua",
        "outputId": "f37232e6-ac52-4c0b-94cc-c775188e8534"
      },
      "execution_count": 46,
      "outputs": [
        {
          "output_type": "display_data",
          "data": {
            "text/plain": [
              "model.safetensors:   0%|          | 0.00/440M [00:00<?, ?B/s]"
            ],
            "application/vnd.jupyter.widget-view+json": {
              "version_major": 2,
              "version_minor": 0,
              "model_id": "e2409a7e74e74f6e81cfdd92b55244b6"
            }
          },
          "metadata": {}
        }
      ]
    },
    {
      "cell_type": "code",
      "source": [
        "bert_base.bert"
      ],
      "metadata": {
        "colab": {
          "base_uri": "https://localhost:8080/"
        },
        "id": "4baioMG_gvI8",
        "outputId": "ddf45847-b4fc-4a2e-c463-0dd58c7e78eb"
      },
      "execution_count": 47,
      "outputs": [
        {
          "output_type": "execute_result",
          "data": {
            "text/plain": [
              "BertModel(\n",
              "  (embeddings): BertEmbeddings(\n",
              "    (word_embeddings): Embedding(30522, 768, padding_idx=0)\n",
              "    (position_embeddings): Embedding(512, 768)\n",
              "    (token_type_embeddings): Embedding(2, 768)\n",
              "    (LayerNorm): LayerNorm((768,), eps=1e-12, elementwise_affine=True)\n",
              "    (dropout): Dropout(p=0.1, inplace=False)\n",
              "  )\n",
              "  (encoder): BertEncoder(\n",
              "    (layer): ModuleList(\n",
              "      (0-11): 12 x BertLayer(\n",
              "        (attention): BertAttention(\n",
              "          (self): BertSdpaSelfAttention(\n",
              "            (query): Linear(in_features=768, out_features=768, bias=True)\n",
              "            (key): Linear(in_features=768, out_features=768, bias=True)\n",
              "            (value): Linear(in_features=768, out_features=768, bias=True)\n",
              "            (dropout): Dropout(p=0.1, inplace=False)\n",
              "          )\n",
              "          (output): BertSelfOutput(\n",
              "            (dense): Linear(in_features=768, out_features=768, bias=True)\n",
              "            (LayerNorm): LayerNorm((768,), eps=1e-12, elementwise_affine=True)\n",
              "            (dropout): Dropout(p=0.1, inplace=False)\n",
              "          )\n",
              "        )\n",
              "        (intermediate): BertIntermediate(\n",
              "          (dense): Linear(in_features=768, out_features=3072, bias=True)\n",
              "          (intermediate_act_fn): GELUActivation()\n",
              "        )\n",
              "        (output): BertOutput(\n",
              "          (dense): Linear(in_features=3072, out_features=768, bias=True)\n",
              "          (LayerNorm): LayerNorm((768,), eps=1e-12, elementwise_affine=True)\n",
              "          (dropout): Dropout(p=0.1, inplace=False)\n",
              "        )\n",
              "      )\n",
              "    )\n",
              "  )\n",
              "  (pooler): BertPooler(\n",
              "    (dense): Linear(in_features=768, out_features=768, bias=True)\n",
              "    (activation): Tanh()\n",
              "  )\n",
              ")"
            ]
          },
          "metadata": {},
          "execution_count": 47
        }
      ]
    },
    {
      "cell_type": "code",
      "source": [
        "#Criterion\n",
        "freqs = [args.label_freqs[l] for l in args.labels]\n",
        "label_weights = (torch.FloatTensor(freqs) / args.train_data_len) ** -1\n",
        "criterion = nn.BCEWithLogitsLoss(pos_weight=label_weights.cuda())\n",
        "#optimizer\n",
        "optimizer = optim.AdamW(bert_base.parameters(), lr=args.lr)\n",
        "#scheduler\n",
        "scheduler = optim.lr_scheduler.ReduceLROnPlateau(\n",
        "        optimizer, \"max\", patience=args.lr_patience, verbose=True, factor=args.lr_factor\n",
        "    )"
      ],
      "metadata": {
        "id": "AKThaO7LgwH9"
      },
      "execution_count": 48,
      "outputs": []
    },
    {
      "cell_type": "code",
      "source": [
        "train(args,bert_base)"
      ],
      "metadata": {
        "colab": {
          "base_uri": "https://localhost:8080/"
        },
        "id": "Q6xmgDV7gxLr",
        "outputId": "316b1a8d-cf04-4dec-e68a-bab97fc10994"
      },
      "execution_count": 49,
      "outputs": [
        {
          "output_type": "stream",
          "name": "stderr",
          "text": [
            "100%|██████████| 758/758 [09:09<00:00,  1.38it/s]\n"
          ]
        },
        {
          "output_type": "stream",
          "name": "stdout",
          "text": [
            "Train Loss: 0.0275\n",
            "Val: {'weighted avg': {'precision': 0.9256845618709042, 'recall': 0.9238985313751669, 'f1-score': 0.9240451815015521, 'support': 749.0}}\n"
          ]
        },
        {
          "output_type": "stream",
          "name": "stderr",
          "text": [
            "100%|██████████| 758/758 [09:09<00:00,  1.38it/s]\n"
          ]
        },
        {
          "output_type": "stream",
          "name": "stdout",
          "text": [
            "Train Loss: 0.0105\n",
            "Val: {'weighted avg': {'precision': 0.959220313667842, 'recall': 0.9586114819759679, 'f1-score': 0.9585680122017362, 'support': 749.0}}\n"
          ]
        },
        {
          "output_type": "stream",
          "name": "stderr",
          "text": [
            "100%|██████████| 758/758 [09:09<00:00,  1.38it/s]\n"
          ]
        },
        {
          "output_type": "stream",
          "name": "stdout",
          "text": [
            "Train Loss: 0.0071\n",
            "Val: {'weighted avg': {'precision': 0.9573503760019354, 'recall': 0.9572763684913218, 'f1-score': 0.9572966027529162, 'support': 749.0}}\n"
          ]
        },
        {
          "output_type": "stream",
          "name": "stderr",
          "text": [
            "100%|██████████| 758/758 [09:09<00:00,  1.38it/s]\n"
          ]
        },
        {
          "output_type": "stream",
          "name": "stdout",
          "text": [
            "Train Loss: 0.0051\n",
            "Val: {'weighted avg': {'precision': 0.9539178470130963, 'recall': 0.9532710280373832, 'f1-score': 0.953324359776807, 'support': 749.0}}\n",
            "No improvement. Breaking out of loop.\n"
          ]
        },
        {
          "output_type": "stream",
          "name": "stderr",
          "text": [
            "<ipython-input-27-c8ce07a6b21e>:2: FutureWarning: You are using `torch.load` with `weights_only=False` (the current default value), which uses the default pickle module implicitly. It is possible to construct malicious pickle data which will execute arbitrary code during unpickling (See https://github.com/pytorch/pytorch/blob/main/SECURITY.md#untrusted-models for more details). In a future release, the default value for `weights_only` will be flipped to `True`. This limits the functions that could be executed during unpickling. Arbitrary objects will no longer be allowed to be loaded via this mode unless they are explicitly allowlisted by the user via `torch.serialization.add_safe_globals`. We recommend you start setting `weights_only=True` for any use case where you don't have full control of the loaded file. Please open an issue on GitHub for any issues related to this experimental feature.\n",
            "  best_checkpoint = torch.load(path)\n"
          ]
        },
        {
          "output_type": "stream",
          "name": "stdout",
          "text": [
            "Test: {'weighted avg': {'precision': 0.9528135982424984, 'recall': 0.952443857331572, 'f1-score': 0.9522542511988138, 'support': 757.0}}\n"
          ]
        }
      ]
    },
    {
      "cell_type": "code",
      "source": [
        "def model_predict(model,text,args):\n",
        "  with torch.no_grad():\n",
        "    tokenizer = BertTokenizer.from_pretrained(args.bert_model)\n",
        "    inputs=tokenizer(text, return_tensors=\"pt\", padding='max_length',truncation=True)\n",
        "    txt=inputs.input_ids\n",
        "    segment=inputs.token_type_ids\n",
        "    attmask=inputs.attention_mask\n",
        "    txt, attmask, segment = txt.cuda(), attmask.cuda(), segment.cuda()\n",
        "\n",
        "    out = bert_base(txt, attmask, segment)\n",
        "    prob = torch.nn.functional.softmax(out[0],dim=0)\n",
        "    index_max = prob.argmax(axis=0)\n",
        "    pred= args.labels[index_max]\n",
        "\n",
        "  return pred, prob"
      ],
      "metadata": {
        "id": "F3n5aBVvgyH5"
      },
      "execution_count": 50,
      "outputs": []
    },
    {
      "cell_type": "code",
      "source": [
        "text=\"GoPro Fetch Dog Harness Mount for Camera Style name:Fetch (Dog Harness) GoPro harnais pour chiens - fetch pour HERO 1, 2, 3, 3+, 4.\"\n",
        "model_predict(bert_base,text,args)"
      ],
      "metadata": {
        "colab": {
          "base_uri": "https://localhost:8080/"
        },
        "id": "nez9Dt6JgzN4",
        "outputId": "5890e891-bce9-48a9-ba28-833a3dd0435a"
      },
      "execution_count": 51,
      "outputs": [
        {
          "output_type": "execute_result",
          "data": {
            "text/plain": [
              "('Electronics',\n",
              " tensor([9.3542e-02, 1.9501e-02, 8.8614e-01, 8.2009e-04], device='cuda:0'))"
            ]
          },
          "metadata": {},
          "execution_count": 51
        }
      ]
    },
    {
      "cell_type": "code",
      "source": [
        "text=\"Speech and Language Processing Pasta dura – Illustrated, 1 abril 2008  Edición Inglés  por Daniel Jurafsky (Autor), James Martin (Autor) For undergraduate or advanced undergraduate courses in Classical Natural Language Processing, Statistical Natural Language Processing, Speech Recognition, Computational Linguistics, and Human Language Processing. An explosion of Web-based language techniques, merging of distinct fields, availability of phone-based dialogue systems, and much more make this an exciting time in speech and language processing. The first of its kind to thoroughly cover language technology - at all levels and with all modern technologies - this text takes an empirical approach to the subject, based on applying statistical and other machine-learning algorithms to large corporations. The authors cover areas that traditionally are taught in different courses, to describe a unified vision of speech and language processing. Emphasis is on practical applications and scientific evaluation. An accompanying Website contains teaching materials for instructors, with pointers to language processing resources on the Web. The Second Edition offers a significant amount of new and extended material\"\n",
        "model_predict(bert_base,text,args)"
      ],
      "metadata": {
        "colab": {
          "base_uri": "https://localhost:8080/"
        },
        "id": "ohSjG6-vtaTs",
        "outputId": "0db3dad2-0ce2-4e55-d167-aa3824c67c96"
      },
      "execution_count": 52,
      "outputs": [
        {
          "output_type": "execute_result",
          "data": {
            "text/plain": [
              "('Books',\n",
              " tensor([1.4079e-04, 9.9918e-01, 5.0394e-04, 1.7874e-04], device='cuda:0'))"
            ]
          },
          "metadata": {},
          "execution_count": 52
        }
      ]
    }
  ]
}