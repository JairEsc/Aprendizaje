{
  "nbformat": 4,
  "nbformat_minor": 0,
  "metadata": {
    "colab": {
      "provenance": [],
      "authorship_tag": "ABX9TyMPCMDT2udW/kxvpOi3uasq",
      "include_colab_link": true
    },
    "kernelspec": {
      "name": "python3",
      "display_name": "Python 3"
    },
    "language_info": {
      "name": "python"
    }
  },
  "cells": [
    {
      "cell_type": "markdown",
      "metadata": {
        "id": "view-in-github",
        "colab_type": "text"
      },
      "source": [
        "<a href=\"https://colab.research.google.com/github/JairEsc/Aprendizaje/blob/main/LeetCode/LeetCode_2.ipynb\" target=\"_parent\"><img src=\"https://colab.research.google.com/assets/colab-badge.svg\" alt=\"Open In Colab\"/></a>"
      ]
    },
    {
      "cell_type": "markdown",
      "source": [
        "oman numerals are represented by seven different symbols: I, V, X, L, C, D and M.\n",
        "\n",
        "Symbol       Value\n",
        "I             1\n",
        "V             5\n",
        "X             10\n",
        "L             50\n",
        "C             100\n",
        "D             500\n",
        "M             1000\n",
        "For example, 2 is written as II in Roman numeral, just two one's added together. 12 is written as XII, which is simply X + II. The number 27 is written as XXVII, which is XX + V + II.\n",
        "\n",
        "Roman numerals are usually written largest to smallest from left to right. However, the numeral for four is not IIII. Instead, the number four is written as IV. Because the one is before the five we subtract it making four. The same principle applies to the number nine, which is written as IX. There are six instances where subtraction is used:\n",
        "\n",
        "I can be placed before V (5) and X (10) to make 4 and 9.\n",
        "X can be placed before L (50) and C (100) to make 40 and 90.\n",
        "C can be placed before D (500) and M (1000) to make 400 and 900.\n",
        "Given an integer, convert it to a roman numeral.\n",
        "\n",
        "\n",
        "\n",
        "Example 1:\n",
        "\n",
        "Input: num = 3\n",
        "Output: \"III\"\n",
        "Explanation: 3 is represented as 3 ones.\n",
        "Example 2:\n",
        "\n",
        "Input: num = 58\n",
        "Output: \"LVIII\"\n",
        "Explanation: L = 50, V = 5, III = 3.\n",
        "Example 3:\n",
        "\n",
        "Input: num = 1994\n",
        "Output: \"MCMXCIV\"\n",
        "Explanation: M = 1000, CM = 900, XC = 90 and IV = 4."
      ],
      "metadata": {
        "id": "Xjd-SNPLbWDu"
      }
    },
    {
      "cell_type": "code",
      "execution_count": 1,
      "metadata": {
        "id": "kGde-B0PbTRX"
      },
      "outputs": [],
      "source": [
        "hmap = {\n",
        "      1:    'I',\n",
        "      4:    'IV',\n",
        "      5:    'V',\n",
        "      9:    'IX',\n",
        "     10:    'X',\n",
        "     40:    'XL',\n",
        "     50:    'L',\n",
        "     90:    'XC',\n",
        "    100:    'C',\n",
        "    400:    'CD',\n",
        "    500:    'D',\n",
        "    900:    'CM',\n",
        "   1000:    'M'\n",
        "}"
      ]
    },
    {
      "cell_type": "code",
      "source": [
        "num=4\n",
        "K=list(hmap.keys())\n",
        "res=''\n",
        "for n in K[::-1]:\n",
        "    while(num>=n):\n",
        "        num-=n\n",
        "        res+=hmap[n]\n",
        "res"
      ],
      "metadata": {
        "colab": {
          "base_uri": "https://localhost:8080/",
          "height": 36
        },
        "id": "LFu4UMv3bbr8",
        "outputId": "8a53c7c1-2b93-4a5b-c5a6-6c61aa9e3c6a"
      },
      "execution_count": 22,
      "outputs": [
        {
          "output_type": "execute_result",
          "data": {
            "text/plain": [
              "'IV'"
            ],
            "application/vnd.google.colaboratory.intrinsic+json": {
              "type": "string"
            }
          },
          "metadata": {},
          "execution_count": 22
        }
      ]
    },
    {
      "cell_type": "markdown",
      "source": [
        "Roman to integer"
      ],
      "metadata": {
        "id": "UC8rED2zdS1z"
      }
    },
    {
      "cell_type": "code",
      "source": [
        "# prompt: define json intercambing keys and values given hmap = {       1:    'I',       4:    'IV',       5:    'V',       9:    'IX',      10:    'X',      40:    'XL',      50:    'L',      90:    'XC',     100:    'C',     400:    'CD',     500:    'D',     900:    'CM',    1000:    'M' }\n",
        "\n",
        "# Create a new dictionary with keys and values swapped\n",
        "new_hmap = {v: k for k, v in hmap.items()}\n",
        "\n",
        "# Print the new dictionary\n",
        "new_hmap['IV']\n"
      ],
      "metadata": {
        "colab": {
          "base_uri": "https://localhost:8080/"
        },
        "id": "gqSRpn86f3sH",
        "outputId": "1decefa1-2bdf-4fde-cc23-28365b0eda08"
      },
      "execution_count": 40,
      "outputs": [
        {
          "output_type": "execute_result",
          "data": {
            "text/plain": [
              "4"
            ]
          },
          "metadata": {},
          "execution_count": 40
        }
      ]
    },
    {
      "cell_type": "code",
      "source": [
        "num='LIV'\n",
        "count=-1\n",
        "new_hmap = {v: k for k, v in hmap.items()}\n",
        "print(len('LIV'))\n",
        "# Print the new dictionary\n",
        "print(new_hmap)\n",
        "res=0\n",
        "while(abs(count)<=len(num)):\n",
        "    last=num[count]\n",
        "    print('last, ',last)\n",
        "    print(type(last))\n",
        "    if(abs(count)==len(num)):\n",
        "        res+=new_hmap[str(last)]\n",
        "\n",
        "    else:\n",
        "        if(new_hmap[num[count-1]]<new_hmap[last]):\n",
        "            print(\"Es compuesto\")\n",
        "            res+=new_hmap[str(num[count-1])+str(last)]\n",
        "            count-=1\n",
        "        else:\n",
        "            res+=new_hmap[str(last)]\n",
        "    count-=1\n",
        "print(res)"
      ],
      "metadata": {
        "colab": {
          "base_uri": "https://localhost:8080/"
        },
        "id": "iBkYLi_5dUuy",
        "outputId": "294da0f2-0adf-4d63-cdd4-8cfdbdb79c33"
      },
      "execution_count": 55,
      "outputs": [
        {
          "output_type": "stream",
          "name": "stdout",
          "text": [
            "3\n",
            "{'I': 1, 'IV': 4, 'V': 5, 'IX': 9, 'X': 10, 'XL': 40, 'L': 50, 'XC': 90, 'C': 100, 'CD': 400, 'D': 500, 'CM': 900, 'M': 1000}\n",
            "last,  V\n",
            "<class 'str'>\n",
            "Es compuesto\n",
            "last,  L\n",
            "<class 'str'>\n",
            "54\n"
          ]
        }
      ]
    },
    {
      "cell_type": "code",
      "source": [
        "num[-1]"
      ],
      "metadata": {
        "colab": {
          "base_uri": "https://localhost:8080/",
          "height": 36
        },
        "id": "qfe1rzrxie2Z",
        "outputId": "0b9735e0-41eb-444a-aafe-1ef8122c7614"
      },
      "execution_count": 54,
      "outputs": [
        {
          "output_type": "execute_result",
          "data": {
            "text/plain": [
              "'V'"
            ],
            "application/vnd.google.colaboratory.intrinsic+json": {
              "type": "string"
            }
          },
          "metadata": {},
          "execution_count": 54
        }
      ]
    }
  ]
}