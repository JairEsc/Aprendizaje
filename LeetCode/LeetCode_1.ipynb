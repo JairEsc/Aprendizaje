{
  "nbformat": 4,
  "nbformat_minor": 0,
  "metadata": {
    "colab": {
      "provenance": [],
      "authorship_tag": "ABX9TyPhwzASfC1+sB6kMC9aLSJu",
      "include_colab_link": true
    },
    "kernelspec": {
      "name": "python3",
      "display_name": "Python 3"
    },
    "language_info": {
      "name": "python"
    }
  },
  "cells": [
    {
      "cell_type": "markdown",
      "metadata": {
        "id": "view-in-github",
        "colab_type": "text"
      },
      "source": [
        "<a href=\"https://colab.research.google.com/github/JairEsc/Aprendizaje/blob/main/LeetCode/LeetCode_1.ipynb\" target=\"_parent\"><img src=\"https://colab.research.google.com/assets/colab-badge.svg\" alt=\"Open In Colab\"/></a>"
      ]
    },
    {
      "cell_type": "markdown",
      "source": [
        "\n",
        "You are given an array of strings tokens that represents an arithmetic expression in a Reverse Polish Notation.\n",
        "\n",
        "Evaluate the expression. Return an integer that represents the value of the expression.\n",
        "\n",
        "Note that:\n",
        "\n",
        "The valid operators are '+', '-', '*', and '/'.\n",
        "Each operand may be an integer or another expression.\n",
        "The division between two integers always truncates toward zero.\n",
        "There will not be any division by zero.\n",
        "The input represents a valid arithmetic expression in a reverse polish notation.\n",
        "The answer and all the intermediate calculations can be represented in a 32-bit integer.\n",
        "\n",
        "\n",
        "Example 1:\n",
        "\n",
        "Input: tokens = [\"2\",\"1\",\"+\",\"3\",\"*\"]\n",
        "Output: 9\n",
        "Explanation: ((2 + 1) * 3) = 9\n",
        "Example 2:\n",
        "\n",
        "Input: tokens = [\"4\",\"13\",\"5\",\"/\",\"+\"]\n",
        "Output: 6\n",
        "Explanation: (4 + (13 / 5)) = 6\n",
        "Example 3:\n",
        "\n",
        "Input: tokens = [\"10\",\"6\",\"9\",\"3\",\"+\",\"-11\",\"*\",\"/\",\"*\",\"17\",\"+\",\"5\",\"+\"]\n",
        "Output: 22\n",
        "Explanation: ((10 * (6 / ((9 + 3) * -11))) + 17) + 5\n",
        "= ((10 * (6 / (12 * -11))) + 17) + 5\n",
        "= ((10 * (6 / -132)) + 17) + 5\n",
        "= ((10 * 0) + 17) + 5\n",
        "= (0 + 17) + 5\n",
        "= 17 + 5\n",
        "= 22\n",
        "\n"
      ],
      "metadata": {
        "id": "fnTDYvR9am2d"
      }
    },
    {
      "cell_type": "code",
      "execution_count": 38,
      "metadata": {
        "colab": {
          "base_uri": "https://localhost:8080/"
        },
        "id": "ekBFWvp6SM5T",
        "outputId": "6d052201-0a87-42d3-9027-dbfd9b07d90e"
      },
      "outputs": [
        {
          "output_type": "stream",
          "name": "stdout",
          "text": [
            "4  con operation  +\n",
            "['10', '6', '9', '3', '+', '-11', '*', '/', '*', '17', '+', '5', '+']\n",
            "['10', '6', '9', '3', '12', '-11', '*', '/', '*', '17', '+', '5', '+']\n",
            "['10', '6', '9', '12', '-11', '*', '/', '*', '17', '+', '5', '+']\n",
            "['10', '6', '12', '-11', '*', '/', '*', '17', '+', '5', '+']\n",
            "4  con operation  *\n",
            "['10', '6', '12', '-11', '*', '/', '*', '17', '+', '5', '+']\n",
            "['10', '6', '12', '-11', '-132', '/', '*', '17', '+', '5', '+']\n",
            "['10', '6', '12', '-132', '/', '*', '17', '+', '5', '+']\n",
            "['10', '6', '-132', '/', '*', '17', '+', '5', '+']\n",
            "3  con operation  /\n",
            "['10', '6', '-132', '/', '*', '17', '+', '5', '+']\n",
            "['10', '6', '-132', '0', '*', '17', '+', '5', '+']\n",
            "['10', '6', '0', '*', '17', '+', '5', '+']\n",
            "['10', '0', '*', '17', '+', '5', '+']\n",
            "2  con operation  *\n",
            "['10', '0', '*', '17', '+', '5', '+']\n",
            "['10', '0', '0', '17', '+', '5', '+']\n",
            "['10', '0', '17', '+', '5', '+']\n",
            "['0', '17', '+', '5', '+']\n",
            "2  con operation  +\n",
            "['0', '17', '+', '5', '+']\n",
            "['0', '17', '17', '5', '+']\n",
            "['0', '17', '5', '+']\n",
            "['17', '5', '+']\n",
            "2  con operation  +\n",
            "['17', '5', '+']\n",
            "['17', '5', '22']\n",
            "['17', '22']\n",
            "['22']\n"
          ]
        }
      ],
      "source": [
        "tokens = [\"10\",\"6\",\"9\",\"3\",\"+\",\"-11\",\"*\",\"/\",\"*\",\"17\",\"+\",\"5\",\"+\"]\n",
        "while '+' in tokens or '-' in tokens or '*' in tokens or '/' in tokens:\n",
        "    for entry_index in range(len(tokens)):\n",
        "        try:\n",
        "            numero2=int(tokens[entry_index])\n",
        "        except:\n",
        "            operation=tokens[entry_index]\n",
        "            break\n",
        "        else:\n",
        "            operation=''\n",
        "    print(entry_index,' con operation ',tokens[entry_index])\n",
        "    numero1=int(tokens[entry_index-2])\n",
        "    if(operation=='+'):\n",
        "        numero_medio=numero1+numero2\n",
        "    if(operation=='-'):\n",
        "        numero_medio=numero1-numero2\n",
        "    if(operation=='*'):\n",
        "        numero_medio=numero1*numero2\n",
        "    if(operation=='/'):\n",
        "        numero_medio=int(numero1/numero2)\n",
        "    print(tokens)\n",
        "    tokens[entry_index]=str(numero_medio)\n",
        "    print(tokens)\n",
        "    del tokens[entry_index-1]\n",
        "    print(tokens)\n",
        "    del tokens[entry_index-2]\n",
        "    print(tokens)\n",
        "    return(int(tokens[2]))\n"
      ]
    },
    {
      "cell_type": "markdown",
      "source": [
        "Given two strings s and t, return true if s is a subsequence of t, or false otherwise.\n",
        "\n",
        "A subsequence of a string is a new string that is formed from the original string by deleting some (can be none) of the characters without disturbing the relative positions of the remaining characters. (i.e., \"ace\" is a subsequence of \"abcde\" while \"aec\" is not).\n",
        "\n",
        "\n",
        "\n",
        "Example 1:\n",
        "\n",
        "Input: s = \"abc\", t = \"ahbgdc\"\n",
        "Output: true\n",
        "Example 2:\n",
        "\n",
        "Input: s = \"axc\", t = \"ahbgdc\"\n",
        "Output: false"
      ],
      "metadata": {
        "id": "9XB-OPFQaW5F"
      }
    },
    {
      "cell_type": "code",
      "source": [
        "s = \"abc\"\n",
        "t = \"ahbgdc\"\n",
        "def isSubsequence(s: str, t: str) -> bool:\n",
        "        if(len(s)>0):\n",
        "            t_i_index=-1\n",
        "            for s_i in s:\n",
        "                s_i_flag=False\n",
        "                if(t_i_index>len(t)):\n",
        "                    return False\n",
        "                for t_i_index_for in range(t_i_index+1,len(t)):\n",
        "                    if(s_i==t[t_i_index_for]):\n",
        "                        s_i_flag=True\n",
        "                        t_i_index=t_i_index_for\n",
        "                        print(t_i_index)\n",
        "                        break\n",
        "                if s_i_flag==False:\n",
        "                    break\n",
        "            return(s_i_flag)\n",
        "        else:\n",
        "            return True\n",
        "\n",
        "isSubsequence(s, t)"
      ],
      "metadata": {
        "colab": {
          "base_uri": "https://localhost:8080/"
        },
        "id": "SjWFda_2aVjk",
        "outputId": "2fcf63be-0f00-4c97-9a6d-e9c583291dbb"
      },
      "execution_count": 55,
      "outputs": [
        {
          "output_type": "stream",
          "name": "stdout",
          "text": [
            "0\n",
            "2\n",
            "5\n"
          ]
        },
        {
          "output_type": "execute_result",
          "data": {
            "text/plain": [
              "True"
            ]
          },
          "metadata": {},
          "execution_count": 55
        }
      ]
    },
    {
      "cell_type": "code",
      "source": [
        "for i in range(0,2):\n",
        "    print(i)"
      ],
      "metadata": {
        "colab": {
          "base_uri": "https://localhost:8080/"
        },
        "id": "bKTSyLDQd4PD",
        "outputId": "4e340ea7-99e1-47e5-8b0b-0e20abe2c614"
      },
      "execution_count": 48,
      "outputs": [
        {
          "output_type": "stream",
          "name": "stdout",
          "text": [
            "0\n",
            "1\n"
          ]
        }
      ]
    }
  ]
}