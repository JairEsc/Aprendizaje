{
  "nbformat": 4,
  "nbformat_minor": 0,
  "metadata": {
    "colab": {
      "provenance": [],
      "authorship_tag": "ABX9TyOF4hwyXBr9FvQ19QpGox8Q",
      "include_colab_link": true
    },
    "kernelspec": {
      "name": "python3",
      "display_name": "Python 3"
    },
    "language_info": {
      "name": "python"
    }
  },
  "cells": [
    {
      "cell_type": "markdown",
      "metadata": {
        "id": "view-in-github",
        "colab_type": "text"
      },
      "source": [
        "<a href=\"https://colab.research.google.com/github/JairEsc/Aprendizaje/blob/main/CAMDA/alpha_diversity_1.ipynb\" target=\"_parent\"><img src=\"https://colab.research.google.com/assets/colab-badge.svg\" alt=\"Open In Colab\"/></a>"
      ]
    },
    {
      "cell_type": "markdown",
      "source": [
        "# Ejemplo muy sencillo\n",
        "### Fuente: https://docs.onecodex.com/en/articles/4136553-alpha-diversity"
      ],
      "metadata": {
        "id": "iZRdXc7NNTgW"
      }
    },
    {
      "cell_type": "code",
      "execution_count": 2,
      "metadata": {
        "id": "HhsjgwMTk2Hb"
      },
      "outputs": [],
      "source": [
        "import numpy as np\n",
        "import pandas as pd\n",
        "import matplotlib.pyplot as plt"
      ]
    },
    {
      "cell_type": "code",
      "source": [
        "muestras_ex=[[13,5,6,0,0],[5,5,5,5,4]\n",
        ",[14,4,3,2,1]]"
      ],
      "metadata": {
        "id": "VY6QpUIX8GpD"
      },
      "execution_count": 52,
      "outputs": []
    },
    {
      "cell_type": "markdown",
      "source": [
        "## Ejemplos de métricas de diversidad:\n",
        "\n",
        "### Observed (Richness)\n",
        "\n",
        "Se define como el número de especies observadas.\n",
        "En nuestro ejemplo, son 3,5,5, respectivamente.\n",
        "\n",
        "### Shannon\n",
        "\n",
        "Es simplemente la entropía de Shannon\n",
        "\n",
        "$$-\\sum_{i=1}^R p_i log(p_i),$$\n",
        "donde:\n",
        "\n",
        "$R$ es el número de especies. En nuestro ejemplo, 5.\n",
        "\n",
        "$p_i$ es la proporción de cada especie. $i=1,\\ldots, R$.\n"
      ],
      "metadata": {
        "id": "URcadm3BNv3o"
      }
    },
    {
      "cell_type": "code",
      "source": [
        "def Shannon(p):\n",
        "    S=0\n",
        "    for p_i in p:\n",
        "        if(p_i>0):\n",
        "            S+=p_i*np.log(p_i)\n",
        "    return -S\n",
        "for i in range(3):\n",
        "    print(\"Shannon de la muestra \",str(i+1),': ',Shannon(muestras_ex[i]/np.sum(muestras_ex[i])))"
      ],
      "metadata": {
        "colab": {
          "base_uri": "https://localhost:8080/"
        },
        "id": "NgQjKJQkOy03",
        "outputId": "d23aa751-70ff-4e97-c048-d92df4d1a11a"
      },
      "execution_count": 53,
      "outputs": [
        {
          "output_type": "stream",
          "name": "stdout",
          "text": [
            "Shannon de la muestra  1 :  1.0054668293254954\n",
            "Shannon de la muestra  2 :  1.6058065097995469\n",
            "Shannon de la muestra  3 :  1.212465860088887\n"
          ]
        }
      ]
    },
    {
      "cell_type": "markdown",
      "source": [
        "### Simpson Index\n",
        "\n",
        "$$1-\\sum_{i=1}^R p_i^2$$"
      ],
      "metadata": {
        "id": "ATvD2kcXQEWz"
      }
    },
    {
      "cell_type": "code",
      "source": [
        "def Simpson(p):\n",
        "    return 1-np.sum(p**2)\n",
        "for i in range(3):\n",
        "    print(\"Simpson de la muestra \",str(i+1),': ',Simpson(muestras_ex[i]/np.sum(muestras_ex[i])))"
      ],
      "metadata": {
        "colab": {
          "base_uri": "https://localhost:8080/"
        },
        "id": "x3Cab9OnQjOm",
        "outputId": "1e9868d2-dc5e-4441-c7b4-59be424606e4"
      },
      "execution_count": 54,
      "outputs": [
        {
          "output_type": "stream",
          "name": "stdout",
          "text": [
            "Simpson de la muestra  1 :  0.6006944444444444\n",
            "Simpson de la muestra  2 :  0.7986111111111112\n",
            "Simpson de la muestra  3 :  0.6076388888888888\n"
          ]
        }
      ]
    },
    {
      "cell_type": "markdown",
      "source": [
        "### Inverse Simpson\n",
        "$$1/\\sum_{i=1}^R p_i^$$"
      ],
      "metadata": {
        "id": "O57MwdpJT2aQ"
      }
    },
    {
      "cell_type": "code",
      "source": [
        "def InvSimpson(p):\n",
        "    return 1/np.sum([r**2 for r in p])\n",
        "for i in range(3):\n",
        "    print(\"Inverse Simpson de la muestra \",str(i+1),': ',InvSimpson(muestras_ex[i]/np.sum(muestras_ex[i])))"
      ],
      "metadata": {
        "colab": {
          "base_uri": "https://localhost:8080/"
        },
        "id": "IcEfySaGT-kb",
        "outputId": "8ca345f3-4349-4075-b41d-a45b7fd07b92"
      },
      "execution_count": 55,
      "outputs": [
        {
          "output_type": "stream",
          "name": "stdout",
          "text": [
            "Inverse Simpson de la muestra  1 :  2.5043478260869567\n",
            "Inverse Simpson de la muestra  2 :  4.9655172413793105\n",
            "Inverse Simpson de la muestra  3 :  2.548672566371681\n"
          ]
        }
      ]
    },
    {
      "cell_type": "markdown",
      "source": [
        "### Chao1\n",
        "Ver: http://dns2.asia.edu.tw/~ysho/YSHO-English/1000%20Taiwan%20(Independent)/PDF/Sca%20J%20Sta11,%20265.pdf\n",
        "\n",
        "No es determinista. Utiliza Bootstrap"
      ],
      "metadata": {
        "id": "zbeU7MCcQ0Ae"
      }
    },
    {
      "cell_type": "markdown",
      "source": [
        "# Ejemplo menos sencillo\n",
        "\n",
        "CAMDA 2023. Limitado a muestras de abundancia de virus en Tokio 2017 por familia.\n",
        "https://github.com/ccm-bioinfo/cambda2023/blob/main/02_variable_selection/data/assembly/assemblyViruses_count__Family.csv\n"
      ],
      "metadata": {
        "id": "kRFb5jDhVP08"
      }
    },
    {
      "cell_type": "code",
      "source": [
        "A=pd.read_csv(\"familia.csv\", index_col=0)\n",
        "A.head()"
      ],
      "metadata": {
        "colab": {
          "base_uri": "https://localhost:8080/",
          "height": 255
        },
        "id": "JE1DdrkSVowY",
        "outputId": "abe9fcc3-43b1-4765-9905-d00e75fb0ceb"
      },
      "execution_count": 19,
      "outputs": [
        {
          "output_type": "execute_result",
          "data": {
            "text/plain": [
              "         CAMDA23_MetaSUB_gCSD17_TOK_10  CAMDA23_MetaSUB_gCSD17_TOK_11  \\\n",
              "1094892                              0                              0   \n",
              "351073                               0                              0   \n",
              "2169803                              0                              0   \n",
              "2750282                              0                              0   \n",
              "180230                               0                              0   \n",
              "\n",
              "         CAMDA23_MetaSUB_gCSD17_TOK_12  CAMDA23_MetaSUB_gCSD17_TOK_13  \\\n",
              "1094892                              0                              0   \n",
              "351073                               0                              0   \n",
              "2169803                              0                              0   \n",
              "2750282                              0                              0   \n",
              "180230                               0                              0   \n",
              "\n",
              "         CAMDA23_MetaSUB_gCSD17_TOK_14  CAMDA23_MetaSUB_gCSD17_TOK_15  \\\n",
              "1094892                              0                              0   \n",
              "351073                               0                              0   \n",
              "2169803                              0                              0   \n",
              "2750282                              0                              0   \n",
              "180230                               0                              0   \n",
              "\n",
              "         CAMDA23_MetaSUB_gCSD17_TOK_16  CAMDA23_MetaSUB_gCSD17_TOK_17  \\\n",
              "1094892                              0                              0   \n",
              "351073                               0                              0   \n",
              "2169803                              0                              0   \n",
              "2750282                              0                              0   \n",
              "180230                               1                              0   \n",
              "\n",
              "         CAMDA23_MetaSUB_gCSD17_TOK_18  CAMDA23_MetaSUB_gCSD17_TOK_19  ...  \\\n",
              "1094892                              0                              0  ...   \n",
              "351073                               0                              0  ...   \n",
              "2169803                              0                              0  ...   \n",
              "2750282                              0                              0  ...   \n",
              "180230                               0                              0  ...   \n",
              "\n",
              "         CAMDA23_MetaSUB_gCSD17_TOK_24  CAMDA23_MetaSUB_gCSD17_TOK_25  \\\n",
              "1094892                              0                              0   \n",
              "351073                               0                              0   \n",
              "2169803                              0                              0   \n",
              "2750282                              0                              0   \n",
              "180230                               0                              0   \n",
              "\n",
              "         CAMDA23_MetaSUB_gCSD17_TOK_2  CAMDA23_MetaSUB_gCSD17_TOK_3  \\\n",
              "1094892                             0                             0   \n",
              "351073                              0                             0   \n",
              "2169803                             0                             0   \n",
              "2750282                             0                             0   \n",
              "180230                              0                             0   \n",
              "\n",
              "         CAMDA23_MetaSUB_gCSD17_TOK_4  CAMDA23_MetaSUB_gCSD17_TOK_5  \\\n",
              "1094892                             0                             0   \n",
              "351073                              0                             0   \n",
              "2169803                             0                             0   \n",
              "2750282                             0                             0   \n",
              "180230                              0                             1   \n",
              "\n",
              "         CAMDA23_MetaSUB_gCSD17_TOK_6  CAMDA23_MetaSUB_gCSD17_TOK_7  \\\n",
              "1094892                             0                             0   \n",
              "351073                              0                             0   \n",
              "2169803                             0                             0   \n",
              "2750282                             0                             0   \n",
              "180230                              0                             0   \n",
              "\n",
              "         CAMDA23_MetaSUB_gCSD17_TOK_8  CAMDA23_MetaSUB_gCSD17_TOK_9  \n",
              "1094892                             0                             0  \n",
              "351073                              0                             0  \n",
              "2169803                             0                             0  \n",
              "2750282                             0                             0  \n",
              "180230                              0                             0  \n",
              "\n",
              "[5 rows x 25 columns]"
            ],
            "text/html": [
              "\n",
              "  <div id=\"df-032803fa-5d11-4f9c-a921-5f5e61c725b3\" class=\"colab-df-container\">\n",
              "    <div>\n",
              "<style scoped>\n",
              "    .dataframe tbody tr th:only-of-type {\n",
              "        vertical-align: middle;\n",
              "    }\n",
              "\n",
              "    .dataframe tbody tr th {\n",
              "        vertical-align: top;\n",
              "    }\n",
              "\n",
              "    .dataframe thead th {\n",
              "        text-align: right;\n",
              "    }\n",
              "</style>\n",
              "<table border=\"1\" class=\"dataframe\">\n",
              "  <thead>\n",
              "    <tr style=\"text-align: right;\">\n",
              "      <th></th>\n",
              "      <th>CAMDA23_MetaSUB_gCSD17_TOK_10</th>\n",
              "      <th>CAMDA23_MetaSUB_gCSD17_TOK_11</th>\n",
              "      <th>CAMDA23_MetaSUB_gCSD17_TOK_12</th>\n",
              "      <th>CAMDA23_MetaSUB_gCSD17_TOK_13</th>\n",
              "      <th>CAMDA23_MetaSUB_gCSD17_TOK_14</th>\n",
              "      <th>CAMDA23_MetaSUB_gCSD17_TOK_15</th>\n",
              "      <th>CAMDA23_MetaSUB_gCSD17_TOK_16</th>\n",
              "      <th>CAMDA23_MetaSUB_gCSD17_TOK_17</th>\n",
              "      <th>CAMDA23_MetaSUB_gCSD17_TOK_18</th>\n",
              "      <th>CAMDA23_MetaSUB_gCSD17_TOK_19</th>\n",
              "      <th>...</th>\n",
              "      <th>CAMDA23_MetaSUB_gCSD17_TOK_24</th>\n",
              "      <th>CAMDA23_MetaSUB_gCSD17_TOK_25</th>\n",
              "      <th>CAMDA23_MetaSUB_gCSD17_TOK_2</th>\n",
              "      <th>CAMDA23_MetaSUB_gCSD17_TOK_3</th>\n",
              "      <th>CAMDA23_MetaSUB_gCSD17_TOK_4</th>\n",
              "      <th>CAMDA23_MetaSUB_gCSD17_TOK_5</th>\n",
              "      <th>CAMDA23_MetaSUB_gCSD17_TOK_6</th>\n",
              "      <th>CAMDA23_MetaSUB_gCSD17_TOK_7</th>\n",
              "      <th>CAMDA23_MetaSUB_gCSD17_TOK_8</th>\n",
              "      <th>CAMDA23_MetaSUB_gCSD17_TOK_9</th>\n",
              "    </tr>\n",
              "  </thead>\n",
              "  <tbody>\n",
              "    <tr>\n",
              "      <th>1094892</th>\n",
              "      <td>0</td>\n",
              "      <td>0</td>\n",
              "      <td>0</td>\n",
              "      <td>0</td>\n",
              "      <td>0</td>\n",
              "      <td>0</td>\n",
              "      <td>0</td>\n",
              "      <td>0</td>\n",
              "      <td>0</td>\n",
              "      <td>0</td>\n",
              "      <td>...</td>\n",
              "      <td>0</td>\n",
              "      <td>0</td>\n",
              "      <td>0</td>\n",
              "      <td>0</td>\n",
              "      <td>0</td>\n",
              "      <td>0</td>\n",
              "      <td>0</td>\n",
              "      <td>0</td>\n",
              "      <td>0</td>\n",
              "      <td>0</td>\n",
              "    </tr>\n",
              "    <tr>\n",
              "      <th>351073</th>\n",
              "      <td>0</td>\n",
              "      <td>0</td>\n",
              "      <td>0</td>\n",
              "      <td>0</td>\n",
              "      <td>0</td>\n",
              "      <td>0</td>\n",
              "      <td>0</td>\n",
              "      <td>0</td>\n",
              "      <td>0</td>\n",
              "      <td>0</td>\n",
              "      <td>...</td>\n",
              "      <td>0</td>\n",
              "      <td>0</td>\n",
              "      <td>0</td>\n",
              "      <td>0</td>\n",
              "      <td>0</td>\n",
              "      <td>0</td>\n",
              "      <td>0</td>\n",
              "      <td>0</td>\n",
              "      <td>0</td>\n",
              "      <td>0</td>\n",
              "    </tr>\n",
              "    <tr>\n",
              "      <th>2169803</th>\n",
              "      <td>0</td>\n",
              "      <td>0</td>\n",
              "      <td>0</td>\n",
              "      <td>0</td>\n",
              "      <td>0</td>\n",
              "      <td>0</td>\n",
              "      <td>0</td>\n",
              "      <td>0</td>\n",
              "      <td>0</td>\n",
              "      <td>0</td>\n",
              "      <td>...</td>\n",
              "      <td>0</td>\n",
              "      <td>0</td>\n",
              "      <td>0</td>\n",
              "      <td>0</td>\n",
              "      <td>0</td>\n",
              "      <td>0</td>\n",
              "      <td>0</td>\n",
              "      <td>0</td>\n",
              "      <td>0</td>\n",
              "      <td>0</td>\n",
              "    </tr>\n",
              "    <tr>\n",
              "      <th>2750282</th>\n",
              "      <td>0</td>\n",
              "      <td>0</td>\n",
              "      <td>0</td>\n",
              "      <td>0</td>\n",
              "      <td>0</td>\n",
              "      <td>0</td>\n",
              "      <td>0</td>\n",
              "      <td>0</td>\n",
              "      <td>0</td>\n",
              "      <td>0</td>\n",
              "      <td>...</td>\n",
              "      <td>0</td>\n",
              "      <td>0</td>\n",
              "      <td>0</td>\n",
              "      <td>0</td>\n",
              "      <td>0</td>\n",
              "      <td>0</td>\n",
              "      <td>0</td>\n",
              "      <td>0</td>\n",
              "      <td>0</td>\n",
              "      <td>0</td>\n",
              "    </tr>\n",
              "    <tr>\n",
              "      <th>180230</th>\n",
              "      <td>0</td>\n",
              "      <td>0</td>\n",
              "      <td>0</td>\n",
              "      <td>0</td>\n",
              "      <td>0</td>\n",
              "      <td>0</td>\n",
              "      <td>1</td>\n",
              "      <td>0</td>\n",
              "      <td>0</td>\n",
              "      <td>0</td>\n",
              "      <td>...</td>\n",
              "      <td>0</td>\n",
              "      <td>0</td>\n",
              "      <td>0</td>\n",
              "      <td>0</td>\n",
              "      <td>0</td>\n",
              "      <td>1</td>\n",
              "      <td>0</td>\n",
              "      <td>0</td>\n",
              "      <td>0</td>\n",
              "      <td>0</td>\n",
              "    </tr>\n",
              "  </tbody>\n",
              "</table>\n",
              "<p>5 rows × 25 columns</p>\n",
              "</div>\n",
              "    <div class=\"colab-df-buttons\">\n",
              "\n",
              "  <div class=\"colab-df-container\">\n",
              "    <button class=\"colab-df-convert\" onclick=\"convertToInteractive('df-032803fa-5d11-4f9c-a921-5f5e61c725b3')\"\n",
              "            title=\"Convert this dataframe to an interactive table.\"\n",
              "            style=\"display:none;\">\n",
              "\n",
              "  <svg xmlns=\"http://www.w3.org/2000/svg\" height=\"24px\" viewBox=\"0 -960 960 960\">\n",
              "    <path d=\"M120-120v-720h720v720H120Zm60-500h600v-160H180v160Zm220 220h160v-160H400v160Zm0 220h160v-160H400v160ZM180-400h160v-160H180v160Zm440 0h160v-160H620v160ZM180-180h160v-160H180v160Zm440 0h160v-160H620v160Z\"/>\n",
              "  </svg>\n",
              "    </button>\n",
              "\n",
              "  <style>\n",
              "    .colab-df-container {\n",
              "      display:flex;\n",
              "      gap: 12px;\n",
              "    }\n",
              "\n",
              "    .colab-df-convert {\n",
              "      background-color: #E8F0FE;\n",
              "      border: none;\n",
              "      border-radius: 50%;\n",
              "      cursor: pointer;\n",
              "      display: none;\n",
              "      fill: #1967D2;\n",
              "      height: 32px;\n",
              "      padding: 0 0 0 0;\n",
              "      width: 32px;\n",
              "    }\n",
              "\n",
              "    .colab-df-convert:hover {\n",
              "      background-color: #E2EBFA;\n",
              "      box-shadow: 0px 1px 2px rgba(60, 64, 67, 0.3), 0px 1px 3px 1px rgba(60, 64, 67, 0.15);\n",
              "      fill: #174EA6;\n",
              "    }\n",
              "\n",
              "    .colab-df-buttons div {\n",
              "      margin-bottom: 4px;\n",
              "    }\n",
              "\n",
              "    [theme=dark] .colab-df-convert {\n",
              "      background-color: #3B4455;\n",
              "      fill: #D2E3FC;\n",
              "    }\n",
              "\n",
              "    [theme=dark] .colab-df-convert:hover {\n",
              "      background-color: #434B5C;\n",
              "      box-shadow: 0px 1px 3px 1px rgba(0, 0, 0, 0.15);\n",
              "      filter: drop-shadow(0px 1px 2px rgba(0, 0, 0, 0.3));\n",
              "      fill: #FFFFFF;\n",
              "    }\n",
              "  </style>\n",
              "\n",
              "    <script>\n",
              "      const buttonEl =\n",
              "        document.querySelector('#df-032803fa-5d11-4f9c-a921-5f5e61c725b3 button.colab-df-convert');\n",
              "      buttonEl.style.display =\n",
              "        google.colab.kernel.accessAllowed ? 'block' : 'none';\n",
              "\n",
              "      async function convertToInteractive(key) {\n",
              "        const element = document.querySelector('#df-032803fa-5d11-4f9c-a921-5f5e61c725b3');\n",
              "        const dataTable =\n",
              "          await google.colab.kernel.invokeFunction('convertToInteractive',\n",
              "                                                    [key], {});\n",
              "        if (!dataTable) return;\n",
              "\n",
              "        const docLinkHtml = 'Like what you see? Visit the ' +\n",
              "          '<a target=\"_blank\" href=https://colab.research.google.com/notebooks/data_table.ipynb>data table notebook</a>'\n",
              "          + ' to learn more about interactive tables.';\n",
              "        element.innerHTML = '';\n",
              "        dataTable['output_type'] = 'display_data';\n",
              "        await google.colab.output.renderOutput(dataTable, element);\n",
              "        const docLink = document.createElement('div');\n",
              "        docLink.innerHTML = docLinkHtml;\n",
              "        element.appendChild(docLink);\n",
              "      }\n",
              "    </script>\n",
              "  </div>\n",
              "\n",
              "\n",
              "<div id=\"df-48d4ec45-e067-4b2f-8e30-6686d3a2482f\">\n",
              "  <button class=\"colab-df-quickchart\" onclick=\"quickchart('df-48d4ec45-e067-4b2f-8e30-6686d3a2482f')\"\n",
              "            title=\"Suggest charts\"\n",
              "            style=\"display:none;\">\n",
              "\n",
              "<svg xmlns=\"http://www.w3.org/2000/svg\" height=\"24px\"viewBox=\"0 0 24 24\"\n",
              "     width=\"24px\">\n",
              "    <g>\n",
              "        <path d=\"M19 3H5c-1.1 0-2 .9-2 2v14c0 1.1.9 2 2 2h14c1.1 0 2-.9 2-2V5c0-1.1-.9-2-2-2zM9 17H7v-7h2v7zm4 0h-2V7h2v10zm4 0h-2v-4h2v4z\"/>\n",
              "    </g>\n",
              "</svg>\n",
              "  </button>\n",
              "\n",
              "<style>\n",
              "  .colab-df-quickchart {\n",
              "      --bg-color: #E8F0FE;\n",
              "      --fill-color: #1967D2;\n",
              "      --hover-bg-color: #E2EBFA;\n",
              "      --hover-fill-color: #174EA6;\n",
              "      --disabled-fill-color: #AAA;\n",
              "      --disabled-bg-color: #DDD;\n",
              "  }\n",
              "\n",
              "  [theme=dark] .colab-df-quickchart {\n",
              "      --bg-color: #3B4455;\n",
              "      --fill-color: #D2E3FC;\n",
              "      --hover-bg-color: #434B5C;\n",
              "      --hover-fill-color: #FFFFFF;\n",
              "      --disabled-bg-color: #3B4455;\n",
              "      --disabled-fill-color: #666;\n",
              "  }\n",
              "\n",
              "  .colab-df-quickchart {\n",
              "    background-color: var(--bg-color);\n",
              "    border: none;\n",
              "    border-radius: 50%;\n",
              "    cursor: pointer;\n",
              "    display: none;\n",
              "    fill: var(--fill-color);\n",
              "    height: 32px;\n",
              "    padding: 0;\n",
              "    width: 32px;\n",
              "  }\n",
              "\n",
              "  .colab-df-quickchart:hover {\n",
              "    background-color: var(--hover-bg-color);\n",
              "    box-shadow: 0 1px 2px rgba(60, 64, 67, 0.3), 0 1px 3px 1px rgba(60, 64, 67, 0.15);\n",
              "    fill: var(--button-hover-fill-color);\n",
              "  }\n",
              "\n",
              "  .colab-df-quickchart-complete:disabled,\n",
              "  .colab-df-quickchart-complete:disabled:hover {\n",
              "    background-color: var(--disabled-bg-color);\n",
              "    fill: var(--disabled-fill-color);\n",
              "    box-shadow: none;\n",
              "  }\n",
              "\n",
              "  .colab-df-spinner {\n",
              "    border: 2px solid var(--fill-color);\n",
              "    border-color: transparent;\n",
              "    border-bottom-color: var(--fill-color);\n",
              "    animation:\n",
              "      spin 1s steps(1) infinite;\n",
              "  }\n",
              "\n",
              "  @keyframes spin {\n",
              "    0% {\n",
              "      border-color: transparent;\n",
              "      border-bottom-color: var(--fill-color);\n",
              "      border-left-color: var(--fill-color);\n",
              "    }\n",
              "    20% {\n",
              "      border-color: transparent;\n",
              "      border-left-color: var(--fill-color);\n",
              "      border-top-color: var(--fill-color);\n",
              "    }\n",
              "    30% {\n",
              "      border-color: transparent;\n",
              "      border-left-color: var(--fill-color);\n",
              "      border-top-color: var(--fill-color);\n",
              "      border-right-color: var(--fill-color);\n",
              "    }\n",
              "    40% {\n",
              "      border-color: transparent;\n",
              "      border-right-color: var(--fill-color);\n",
              "      border-top-color: var(--fill-color);\n",
              "    }\n",
              "    60% {\n",
              "      border-color: transparent;\n",
              "      border-right-color: var(--fill-color);\n",
              "    }\n",
              "    80% {\n",
              "      border-color: transparent;\n",
              "      border-right-color: var(--fill-color);\n",
              "      border-bottom-color: var(--fill-color);\n",
              "    }\n",
              "    90% {\n",
              "      border-color: transparent;\n",
              "      border-bottom-color: var(--fill-color);\n",
              "    }\n",
              "  }\n",
              "</style>\n",
              "\n",
              "  <script>\n",
              "    async function quickchart(key) {\n",
              "      const quickchartButtonEl =\n",
              "        document.querySelector('#' + key + ' button');\n",
              "      quickchartButtonEl.disabled = true;  // To prevent multiple clicks.\n",
              "      quickchartButtonEl.classList.add('colab-df-spinner');\n",
              "      try {\n",
              "        const charts = await google.colab.kernel.invokeFunction(\n",
              "            'suggestCharts', [key], {});\n",
              "      } catch (error) {\n",
              "        console.error('Error during call to suggestCharts:', error);\n",
              "      }\n",
              "      quickchartButtonEl.classList.remove('colab-df-spinner');\n",
              "      quickchartButtonEl.classList.add('colab-df-quickchart-complete');\n",
              "    }\n",
              "    (() => {\n",
              "      let quickchartButtonEl =\n",
              "        document.querySelector('#df-48d4ec45-e067-4b2f-8e30-6686d3a2482f button');\n",
              "      quickchartButtonEl.style.display =\n",
              "        google.colab.kernel.accessAllowed ? 'block' : 'none';\n",
              "    })();\n",
              "  </script>\n",
              "</div>\n",
              "\n",
              "    </div>\n",
              "  </div>\n"
            ],
            "application/vnd.google.colaboratory.intrinsic+json": {
              "type": "dataframe",
              "variable_name": "A"
            }
          },
          "metadata": {},
          "execution_count": 19
        }
      ]
    },
    {
      "cell_type": "code",
      "source": [
        "B=A/np.sum(A)\n",
        "B = B.dropna(axis=1, how='all')\n",
        "muestras=[A[-6:] for A in list(B.columns)]\n",
        "Shannons=[]\n",
        "InvSimpsons=[]\n",
        "for name in list(B.columns):\n",
        "    b_i=list(B[name])\n",
        "    Shannons.append(Shannon(b_i))\n",
        "    InvSimpsons.append(InvSimpson(b_i))\n",
        "plt.plot(muestras,Shannons,'.')\n",
        "plt.xticks(rotation=90)\n",
        "plt.title('Shannon Index')\n",
        "plt.show()\n",
        "plt.plot(muestras,InvSimpsons,'.')\n",
        "plt.xticks(rotation=90)\n",
        "plt.title('Simpson Inversa')\n",
        "plt.show()\n"
      ],
      "metadata": {
        "colab": {
          "base_uri": "https://localhost:8080/",
          "height": 965
        },
        "id": "TnkrxhBNWAPM",
        "outputId": "07907579-4603-4613-c4c7-4b9ff3d74a5f"
      },
      "execution_count": 58,
      "outputs": [
        {
          "output_type": "display_data",
          "data": {
            "text/plain": [
              "<Figure size 640x480 with 1 Axes>"
            ],
            "image/png": "[encoded data removed]"
          },
          "metadata": {}
        },
        {
          "output_type": "display_data",
          "data": {
            "text/plain": [
              "<Figure size 640x480 with 1 Axes>"
            ],
            "image/png": "[encoded data removed]"
          },
          "metadata": {}
        }
      ]
    }
  ]
}